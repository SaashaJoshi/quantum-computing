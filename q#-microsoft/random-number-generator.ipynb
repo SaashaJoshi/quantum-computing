{
 "cells": [
  {
   "cell_type": "code",
   "execution_count": 21,
   "metadata": {},
   "outputs": [
    {
     "name": "stderr",
     "output_type": "stream",
     "text": [
      "/snippet_.qs(9,17): error QS5008: The given arguments of type Result and Int do not have a common base type.\n",
      "/snippet_.qs(9,25): error QS5008: The given arguments of type Result and Int do not have a common base type.\n"
     ]
    }
   ],
   "source": [
    "operation RandomNumberGenerator() : Unit {\n",
    "    let nBits = 100;    // Define number of bits to be generated\n",
    "    mutable countOnes = 0;    // Count the number of 1s generated\n",
    "    \n",
    "    using (q = Qubit()){\n",
    "        // for (x in range(1.to.nBits))\n",
    "        for (_ in 1..nBits){\n",
    "            H(q);    // Apply Hadamard gate to all qubits\n",
    "            if (M(q) == 1){\n",
    "                set countOnes += 1;\n",
    "            }\n",
    "        }\n",
    "    }\n",
    "    Message($\"Number of 1s generated are {countOnes} out of {nBits}\");\n",
    "}"
   ]
  },
  {
   "cell_type": "code",
   "execution_count": 20,
   "metadata": {},
   "outputs": [
    {
     "name": "stderr",
     "output_type": "stream",
     "text": [
      "Invalid operation name: RandonNumberGenerator\n"
     ]
    }
   ],
   "source": [
    "%simulate RandonNumberGenerator"
   ]
  },
  {
   "cell_type": "code",
   "execution_count": null,
   "metadata": {},
   "outputs": [],
   "source": []
  }
 ],
 "metadata": {
  "kernelspec": {
   "display_name": "Q#",
   "language": "qsharp",
   "name": "iqsharp"
  },
  "language_info": {
   "file_extension": ".qs",
   "mimetype": "text/x-qsharp",
   "name": "qsharp",
   "version": "0.12"
  }
 },
 "nbformat": 4,
 "nbformat_minor": 4
}
