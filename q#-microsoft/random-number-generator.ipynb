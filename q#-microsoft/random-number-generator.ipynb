{
 "cells": [
  {
   "cell_type": "code",
   "execution_count": 3,
   "metadata": {},
   "outputs": [
    {
     "data": {
      "application/json": "{\"LastUpdated\":\"2020-07-17T02:08:10.9226477+05:30\",\"IsCompleted\":true,\"Description\":\"Adding package Microsoft.Quantum.Katas::0.12.20070124\",\"Subtask\":\"done\"}",
      "text/plain": [
       "Adding package Microsoft.Quantum.Katas::0.12.20070124: done!"
      ]
     },
     "metadata": {},
     "output_type": "display_data"
    },
    {
     "data": {
      "application/json": "[\"Microsoft.Quantum.Standard::0.12.20070124\",\"Microsoft.Quantum.Katas::0.12.20070124\"]",
      "text/html": [
       "<ul><li>Microsoft.Quantum.Standard::0.12.20070124</li><li>Microsoft.Quantum.Katas::0.12.20070124</li></ul>"
      ],
      "text/plain": [
       "Microsoft.Quantum.Standard::0.12.20070124, Microsoft.Quantum.Katas::0.12.20070124"
      ]
     },
     "execution_count": 3,
     "metadata": {},
     "output_type": "execute_result"
    }
   ],
   "source": [
    "%package Microsoft.Quantum.Katas::0.12.20070124"
   ]
  },
  {
   "cell_type": "code",
   "execution_count": 8,
   "metadata": {},
   "outputs": [
    {
     "data": {
      "application/json": "[]",
      "text/html": [
       "<ul></ul>"
      ],
      "text/plain": []
     },
     "execution_count": 8,
     "metadata": {},
     "output_type": "execute_result"
    }
   ],
   "source": [
    "%workspace reload"
   ]
  },
  {
   "cell_type": "code",
   "execution_count": 7,
   "metadata": {},
   "outputs": [
    {
     "name": "stderr",
     "output_type": "stream",
     "text": [
      "/snippet_.qs(9,17): error QS5008: The given arguments of type Result and Int do not have a common base type.\n",
      "/snippet_.qs(9,25): error QS5008: The given arguments of type Result and Int do not have a common base type.\n"
     ]
    }
   ],
   "source": [
    "operation RandomNumberGenerator() : Unit {\n",
    "    let nBits = 100;    // Define number of bits to be generated\n",
    "    mutable countOnes = 0;    // Count the number of 1s generated\n",
    "    \n",
    "    using (q = Qubit()){\n",
    "        // for (x in range(1.to.nBits))\n",
    "        for (_ in 1..nBits){\n",
    "            H(q);    // Apply Hadamard gate to all qubits\n",
    "            if (M(q) == 1){\n",
    "                set countOnes += 1;\n",
    "            }\n",
    "        }\n",
    "    }\n",
    "    Message($\"Number of 1s generated are {countOnes} out of {nBits}\");\n",
    "}"
   ]
  },
  {
   "cell_type": "code",
   "execution_count": 6,
   "metadata": {},
   "outputs": [
    {
     "name": "stderr",
     "output_type": "stream",
     "text": [
      "Invalid operation name: RandonNumberGenerator\n"
     ]
    }
   ],
   "source": [
    "%simulate RandonNumberGenerator"
   ]
  },
  {
   "cell_type": "code",
   "execution_count": null,
   "metadata": {},
   "outputs": [],
   "source": []
  }
 ],
 "metadata": {
  "kernelspec": {
   "display_name": "Q#",
   "language": "qsharp",
   "name": "iqsharp"
  },
  "language_info": {
   "file_extension": ".qs",
   "mimetype": "text/x-qsharp",
   "name": "qsharp",
   "version": "0.12"
  }
 },
 "nbformat": 4,
 "nbformat_minor": 4
}
