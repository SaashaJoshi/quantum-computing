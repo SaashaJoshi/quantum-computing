{
 "cells": [
  {
   "cell_type": "code",
   "execution_count": 4,
   "metadata": {},
   "outputs": [
    {
     "data": {
      "application/json": "[\"QubitsSyntax\"]",
      "text/html": [
       "<ul><li>QubitsSyntax</li></ul>"
      ],
      "text/plain": [
       "QubitsSyntax"
      ]
     },
     "execution_count": 4,
     "metadata": {},
     "output_type": "execute_result"
    }
   ],
   "source": [
    "operation QubitsSyntax(): Unit{\n",
    "    // Allocates qubits. Initializes them to state |0>\n",
    "    using (q = Qubit()){\n",
    "        // Print statement in qsharp\n",
    "        Message(\"State is |0>\");\n",
    "        //DumpMachine(); Invalid operator DumpMachine(//check!!)\n",
    "        Message(\"\\n\");\n",
    "        \n",
    "        X(q);    // CNOT gate. Changes state from |0> to |1>\n",
    "        \n",
    "        Message(\"State is |1>\");\n",
    "        //DumpMachine();\n",
    "        Message(\"\\n\");\n",
    "        \n",
    "        H(q);    // Puts qubit into superposition\n",
    "        \n",
    "        Message(\"In superposition. State is |->\");\n",
    "        //DumpMachine();\n",
    "        Message(\"\\n\");\n",
    "        \n",
    "        S(q);    // Phase (S) gate. Performs 90 degree rotation around z-axis.\n",
    "        \n",
    "        Message(\"State is |-i>\");\n",
    "        //DumpMachine();\n",
    "        Message(\"\\n\");\n",
    "        \n",
    "        // Rx and Ry gate sare rotation operators.\n",
    "        // Rx rotates through x-axis and Ry through y-axis.\n",
    "        // Theta defined in radians.\n",
    "        Rx(2.0, q);\n",
    "        Ry(1.0, q);\n",
    "        \n",
    "        Message(\"Rotated state (unneven //check!)\");\n",
    "        //DumpMachine();\n",
    "        \n",
    "        Reset(q);\n",
    "    }\n",
    "}"
   ]
  },
  {
   "cell_type": "code",
   "execution_count": 7,
   "metadata": {},
   "outputs": [
    {
     "name": "stdout",
     "output_type": "stream",
     "text": [
      "State is |0>\n",
      "\n",
      "\n",
      "State is |1>\n",
      "\n",
      "\n",
      "In superposition. State is |->\n",
      "\n",
      "\n",
      "State is |-i>\n",
      "\n",
      "\n",
      "Rotated state (unneven //check!)\n"
     ]
    },
    {
     "data": {
      "application/json": "{\"@type\":\"tuple\"}",
      "text/plain": [
       "()"
      ]
     },
     "execution_count": 7,
     "metadata": {},
     "output_type": "execute_result"
    }
   ],
   "source": [
    "%simulate QubitsSyntax"
   ]
  },
  {
   "cell_type": "code",
   "execution_count": null,
   "metadata": {},
   "outputs": [],
   "source": []
  }
 ],
 "metadata": {
  "kernelspec": {
   "display_name": "Q#",
   "language": "qsharp",
   "name": "iqsharp"
  },
  "language_info": {
   "file_extension": ".qs",
   "mimetype": "text/x-qsharp",
   "name": "qsharp",
   "version": "0.12"
  }
 },
 "nbformat": 4,
 "nbformat_minor": 4
}
