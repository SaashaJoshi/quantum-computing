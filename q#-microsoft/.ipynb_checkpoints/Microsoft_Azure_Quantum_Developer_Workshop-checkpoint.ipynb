{
 "cells": [
  {
   "cell_type": "markdown",
   "metadata": {},
   "source": [
    "# Microsoft Azure Quantum Developer Workshop\n",
    "## 16th July 2020 (2130 IST) - 17th July 2020 (0400 IST)\n",
    "\n",
    "### Q# and Quantum Execution\n",
    "\n",
    "1. Superpostition\n",
    "2. Entanglement\n",
    "\n",
    "#### (A) Q#, things to note:\n",
    "\n",
    "1. Physical qubits on quantum computer.\n",
    "2. Logical qubits in programs (reflect actual quantum systems).\n",
    "3. Qubit is data type in Q#. Similar to software object in OOPS.\n",
    "4. Manipulate qubits by applying gates to them.\n",
    "5. Qubits are black boxes. We cannot see inside them.\n",
    "6. Don't have access to the state. Can only modify the state and get some information.\n",
    "7. Q# program send quantum instructions to quantum device, which is an accelerator for our classical workload. (Quantum: Inverting sequence of instructions.)\n",
    "8. Q# within: access invertible operations\n",
    "9. Q# provides hardware abstraction for quantum development\n",
    "10. High-level programming language\n",
    "11. Scalability of development and applications\n",
    "12. Allocate qubit like an object variable in program.\n",
    "13. DumpMachine() allows a peak into the machine to see where program is headed. (In simulation)\n",
    "14. Observing the state CHANGES IT!\n",
    "\n",
    "#### (B) Q# libraries:\n",
    "1. Standard\n",
    "2. Numerical\n",
    "3. Chemistry\n",
    "4. Machine Learning\n",
    "\n",
    "### Simulators and Resource estimation\n",
    "Simulators validate Q# programs before submitting to Azure Quantum.\n",
    "\n",
    "Resource estimation gives stats about how Q# applications would run on future hardware. E.g gates, measurements, rotations, depth of circuit, etc."
   ]
  },
  {
   "cell_type": "code",
   "execution_count": null,
   "metadata": {},
   "outputs": [],
   "source": []
  },
  {
   "cell_type": "markdown",
   "metadata": {},
   "source": [
    "## Virtual Lab\n",
    "\n",
    "Classical Computation\n",
    "Unit of computation: Classical bits\n",
    "State: Scalars\n",
    "\n",
    "Quantum Computation\n",
    "Unit of computation: Qubits (quantum-bits)\n",
    "State: Vectors\n",
    "\n",
    "### (A) Superposition\n",
    "Superposition staes are linear combinations of basis states.\n",
    "\n",
    "##### |ψ> = (c0 c1) = c0(1 0) + c1(0 1) = c0|0> + c1|1>\n",
    "\n",
    "### (B) Unit Circle State Visualization\n",
    "< insert image>\n",
    "State |0> on horizontal axis. \n",
    "\n",
    "State |1> on vertical axis."
   ]
  },
  {
   "cell_type": "code",
   "execution_count": null,
   "metadata": {},
   "outputs": [],
   "source": []
  },
  {
   "cell_type": "markdown",
   "metadata": {},
   "source": [
    "### Hadamard Gate (H)\n",
    "This quantum operation does not have a classical equivalent!\n",
    "\n",
    "Creates an equal superposition.\n",
    "##### H|0> = 1/√2 (|0> + |1>) = |+>\n",
    "##### H|1> = 1/√2 (|0> - |1>) = |->\n",
    "\n",
    "It is a reversible gate.\n",
    "##### H|+> = |0>\n",
    "##### H|-> = |1>"
   ]
  },
  {
   "cell_type": "code",
   "execution_count": null,
   "metadata": {},
   "outputs": [],
   "source": []
  },
  {
   "cell_type": "markdown",
   "metadata": {},
   "source": [
    "### Phase Flip Gate (Z)\n",
    "This quantum operation does not have a classical equivalent!\n",
    "\n",
    "Changes sign of the coefficient. Creates a horizontal reflection (See Unit circle!)\n",
    "\n",
    "##### Z|0> = |1>\n",
    "##### Z|1> = |0>\n",
    "\n",
    "##### Z|+> = |->\n",
    "##### Z|-> = |+>"
   ]
  },
  {
   "cell_type": "code",
   "execution_count": null,
   "metadata": {},
   "outputs": [],
   "source": []
  }
 ],
 "metadata": {
  "kernelspec": {
   "display_name": "Q#",
   "language": "qsharp",
   "name": "iqsharp"
  },
  "language_info": {
   "file_extension": ".qs",
   "mimetype": "text/x-qsharp",
   "name": "qsharp",
   "version": "0.12"
  }
 },
 "nbformat": 4,
 "nbformat_minor": 4
}
