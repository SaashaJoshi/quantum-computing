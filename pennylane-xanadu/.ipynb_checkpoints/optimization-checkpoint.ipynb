{
 "cells": [
  {
   "cell_type": "code",
   "execution_count": 1,
   "id": "understanding-final",
   "metadata": {},
   "outputs": [],
   "source": [
    "import pennylane as qml\n",
    "from pennylane import numpy as np"
   ]
  },
  {
   "cell_type": "code",
   "execution_count": 2,
   "id": "looking-queen",
   "metadata": {},
   "outputs": [],
   "source": [
    "dev = qml.device(name = 'default.qubit', wires = 2, shots = 1000)"
   ]
  },
  {
   "cell_type": "code",
   "execution_count": 3,
   "id": "descending-documentation",
   "metadata": {},
   "outputs": [],
   "source": [
    "@qml.qnode(dev)\n",
    "def circuit(param):\n",
    "    qml.RX(param[0], wires = 0)\n",
    "    qml.RY(param[1], wires = 0)\n",
    "    \n",
    "    return qml.expval(qml.PauliZ(wires = 0))"
   ]
  },
  {
   "cell_type": "code",
   "execution_count": 42,
   "id": "wicked-moore",
   "metadata": {},
   "outputs": [
    {
     "name": "stdout",
     "output_type": "stream",
     "text": [
      "(array([-0.61237244, -0.35355339]),)\n"
     ]
    }
   ],
   "source": [
    "# Gradient\n",
    "gradient = qml.grad(circuit)   # qnode = circuit\n",
    "\n",
    "param = np.array([np.pi/3, np.pi/4])\n",
    "# param = np.array([0.54, 0.12])\n",
    "print(gradient(param))"
   ]
  },
  {
   "cell_type": "code",
   "execution_count": 43,
   "id": "announced-savage",
   "metadata": {},
   "outputs": [
    {
     "name": "stdout",
     "output_type": "stream",
     "text": [
      "Step number:  0 Expectation Value:  0.2558960521\n",
      "Step number:  1 Expectation Value:  0.1687643583\n",
      "Step number:  2 Expectation Value:  0.0933621830\n",
      "Step number:  3 Expectation Value:  0.0275676452\n",
      "Step number:  4 Expectation Value: -0.0329291784\n",
      "Step number:  5 Expectation Value: -0.0933222110\n",
      "Step number:  6 Expectation Value: -0.1586234555\n",
      "Step number:  7 Expectation Value: -0.2327783170\n",
      "Step number:  8 Expectation Value: -0.3177805320\n",
      "Step number:  9 Expectation Value: -0.4128237679\n",
      "Step number: 10 Expectation Value: -0.5139043036\n",
      "Step number: 11 Expectation Value: -0.6144656351\n",
      "Step number: 12 Expectation Value: -0.7072444889\n",
      "Step number: 13 Expectation Value: -0.7865534362\n",
      "Step number: 14 Expectation Value: -0.8497361050\n",
      "Step number: 15 Expectation Value: -0.8971441888\n",
      "Step number: 16 Expectation Value: -0.9310679740\n",
      "Step number: 17 Expectation Value: -0.9544984554\n",
      "Step number: 18 Expectation Value: -0.9702782848\n",
      "Step number: 19 Expectation Value: -0.9807225826\n",
      "Step number: 20 Expectation Value: -0.9875551822\n",
      "Step number: 21 Expectation Value: -0.9919906713\n",
      "Step number: 22 Expectation Value: -0.9948555535\n",
      "Step number: 23 Expectation Value: -0.9966999361\n",
      "Step number: 24 Expectation Value: -0.9978848254\n",
      "Step number: 25 Expectation Value: -0.9986450012\n",
      "Step number: 26 Expectation Value: -0.9991322726\n",
      "Step number: 27 Expectation Value: -0.9994444379\n",
      "Step number: 28 Expectation Value: -0.9996443515\n",
      "Step number: 29 Expectation Value: -0.9997723486\n",
      "Step number: 30 Expectation Value: -0.9998542882\n",
      "Step number: 31 Expectation Value: -0.9999067383\n",
      "Step number: 32 Expectation Value: -0.9999403100\n",
      "Step number: 33 Expectation Value: -0.9999617974\n",
      "Step number: 34 Expectation Value: -0.9999755499\n",
      "Step number: 35 Expectation Value: -0.9999843518\n",
      "Step number: 36 Expectation Value: -0.9999899851\n",
      "Step number: 37 Expectation Value: -0.9999935904\n",
      "Step number: 38 Expectation Value: -0.9999958979\n",
      "Step number: 39 Expectation Value: -0.9999973746\n",
      "Step number: 40 Expectation Value: -0.9999983198\n",
      "Step number: 41 Expectation Value: -0.9999989246\n",
      "Step number: 42 Expectation Value: -0.9999993118\n",
      "Step number: 43 Expectation Value: -0.9999995595\n",
      "Step number: 44 Expectation Value: -0.9999997181\n",
      "Step number: 45 Expectation Value: -0.9999998196\n",
      "Step number: 46 Expectation Value: -0.9999998845\n",
      "Step number: 47 Expectation Value: -0.9999999261\n",
      "Step number: 48 Expectation Value: -0.9999999527\n",
      "Step number: 49 Expectation Value: -0.9999999697\n",
      "\n",
      "Final Expectation Value: -0.9999999697\n"
     ]
    }
   ],
   "source": [
    "# Optimization\n",
    "\n",
    "optimizer = qml.GradientDescentOptimizer(stepsize = 0.2)\n",
    "\n",
    "max_iter = 50\n",
    "\n",
    "for n in range(max_iter):\n",
    "    param = optimizer.step(circuit, param)\n",
    "    expectation_val = circuit(param)\n",
    "    \n",
    "    print('Step number:{: 3d} Expectation Value: {: .10f}'.format(n, expectation_val))\n",
    "\n",
    "print()\n",
    "print('Final Expectation Value: {: .10f}'.format(expectation_val))"
   ]
  },
  {
   "cell_type": "code",
   "execution_count": null,
   "id": "korean-hybrid",
   "metadata": {},
   "outputs": [],
   "source": []
  }
 ],
 "metadata": {
  "kernelspec": {
   "display_name": "Python 3",
   "language": "python",
   "name": "python3"
  },
  "language_info": {
   "codemirror_mode": {
    "name": "ipython",
    "version": 3
   },
   "file_extension": ".py",
   "mimetype": "text/x-python",
   "name": "python",
   "nbconvert_exporter": "python",
   "pygments_lexer": "ipython3",
   "version": "3.9.1"
  }
 },
 "nbformat": 4,
 "nbformat_minor": 5
}
