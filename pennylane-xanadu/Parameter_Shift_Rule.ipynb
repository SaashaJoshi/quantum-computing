{
 "cells": [
  {
   "cell_type": "code",
   "execution_count": 1,
   "id": "proper-shoot",
   "metadata": {},
   "outputs": [],
   "source": [
    "import pennylane as qml\n",
    "from pennylane import numpy as np"
   ]
  },
  {
   "cell_type": "code",
   "execution_count": 2,
   "id": "expected-somalia",
   "metadata": {},
   "outputs": [],
   "source": [
    "dev = qml.device(name = 'default.qubit', wires = 5, shots = 1000)"
   ]
  },
  {
   "cell_type": "code",
   "execution_count": 3,
   "id": "international-church",
   "metadata": {},
   "outputs": [],
   "source": [
    "@qml.qnode(dev)\n",
    "\n",
    "# RYRZ linear entanglement\n",
    "def circuit(param, wires):\n",
    "    for w in range(wires):\n",
    "        qml.RY(param [0, w], wires = w)\n",
    "        qml.RZ(param[1, w], wires = w)\n",
    "        \n",
    "    for w in range(wires-1):\n",
    "        qml.CNOT(wires = [w, w+1])\n",
    "        \n",
    "    for w in range(wires):\n",
    "        qml.RY(param [0, w+5], wires = w)\n",
    "        qml.RZ(param[1, w+5], wires = w)\n",
    "        \n",
    "    for w in range(wires-1):\n",
    "        qml.CNOT(wires = [w, w+1])\n",
    "        \n",
    "    return qml.expval(qml.PauliZ(wires = 0))"
   ]
  },
  {
   "cell_type": "code",
   "execution_count": 12,
   "id": "fuzzy-winner",
   "metadata": {},
   "outputs": [],
   "source": [
    "def psr(qnode, param, wires, i, j):\n",
    "    shift_param_f = param.copy()\n",
    "    shift_param_b = param.copy()\n",
    "    shift = np.pi/2\n",
    "    \n",
    "    # Forward\n",
    "    shift_param_f[i, j] = shift_param_f[i, j] + shift\n",
    "    forward = qnode(shift_param_f, wires)\n",
    "    \n",
    "    # Backward\n",
    "    shift_param_b[i, j] = shift_param_b[i, j] - shift\n",
    "    backward = qnode(shift_param_b, wires)\n",
    "    \n",
    "    gradient = (forward - backward) / (2*np.sin(shift))\n",
    "    \n",
    "    return gradient"
   ]
  },
  {
   "cell_type": "code",
   "execution_count": 16,
   "id": "bizarre-norman",
   "metadata": {},
   "outputs": [
    {
     "name": "stdout",
     "output_type": "stream",
     "text": [
      "0.42821777499282\n",
      " 0: ──RY(0.99)────RZ(2.63)────╭C───RY(-0.998)───RZ(3.04)─────────────╭C────────────────────────────────┤ ⟨Z⟩ \n",
      " 1: ──RY(-0.259)──RZ(-0.585)──╰X──╭C────────────RY(1.59)───RZ(2.25)──╰X───────────╭C───────────────────┤     \n",
      " 2: ──RY(0.43)────RZ(-0.697)──────╰X───────────╭C──────────RY(2.32)───RZ(-0.761)──╰X───────────╭C──────┤     \n",
      " 3: ──RY(2.41)────RZ(-1.06)────────────────────╰X─────────╭C──────────RY(-0.927)───RZ(2.28)────╰X──╭C──┤     \n",
      " 4: ──RY(-1.55)───RZ(-0.535)──────────────────────────────╰X──────────RY(1.14)─────RZ(-0.279)──────╰X──┤     \n",
      "\n",
      "[[-0.36731758 -0.49353969  0.          0.          0.          0.\n",
      "   0.          0.          0.          0.        ]\n",
      " [ 0.07351399  0.08660538  0.          0.          0.          0.\n",
      "   0.          0.          0.          0.        ]]\n"
     ]
    }
   ],
   "source": [
    "wires = 5\n",
    "np.random.seed(100)\n",
    "param = np.random.uniform(low = -np.pi/2, high = np.pi, size = (2, 10))\n",
    "gradient = np.zeros_like(param)\n",
    "\n",
    "# print(gradient)\n",
    "# print(param)\n",
    "# print(param[0])\n",
    "\n",
    "# [[np.pi, np.pi, np.pi, np.pi, np.pi, np.pi, np.pi, np.pi, np.pi, np.pi, np.pi], [np.pi, np.pi, np.pi, np.pi, np.pi, np.pi, np.pi, np.pi, np.pi, np.pi, np.pi]]\n",
    "\n",
    "print(circuit(param, wires))\n",
    "print(circuit.draw())\n",
    "\n",
    "for i in range(2):\n",
    "    for j in range(len(param)):\n",
    "        gradient[i, j] = psr(circuit, param, wires, i, j)\n",
    "    \n",
    "print(gradient)\n",
    "\n",
    "# print(circuit(gradient, wires))\n",
    "# print(circuit.draw())"
   ]
  },
  {
   "cell_type": "code",
   "execution_count": null,
   "id": "northern-patrol",
   "metadata": {},
   "outputs": [],
   "source": []
  }
 ],
 "metadata": {
  "kernelspec": {
   "display_name": "Python 3",
   "language": "python",
   "name": "python3"
  },
  "language_info": {
   "codemirror_mode": {
    "name": "ipython",
    "version": 3
   },
   "file_extension": ".py",
   "mimetype": "text/x-python",
   "name": "python",
   "nbconvert_exporter": "python",
   "pygments_lexer": "ipython3",
   "version": "3.9.1"
  }
 },
 "nbformat": 4,
 "nbformat_minor": 5
}
