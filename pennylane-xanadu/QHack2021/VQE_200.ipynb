{
 "cells": [
  {
   "cell_type": "code",
   "execution_count": 1,
   "id": "ultimate-stocks",
   "metadata": {},
   "outputs": [],
   "source": [
    "import pennylane as qml\n",
    "from pennylane import numpy as np"
   ]
  },
  {
   "cell_type": "code",
   "execution_count": 2,
   "id": "royal-glossary",
   "metadata": {},
   "outputs": [],
   "source": [
    "dev = qml.device(name = 'default.qubit', wires = 10, shots = 1000)"
   ]
  },
  {
   "cell_type": "code",
   "execution_count": 21,
   "id": "adaptive-sound",
   "metadata": {},
   "outputs": [],
   "source": [
    "@qml.qnode(dev)\n",
    "\n",
    "def ansatz(param, w):\n",
    "    # RyRz Full Entanglement\n",
    "    \n",
    "    for d in range(w):\n",
    "        qml.RY(param[d, 0, 0], wires = [d])\n",
    "        qml.RZ(param[d, 0, 1], wires = [d])\n",
    "        \n",
    "    for i in range(w-1):\n",
    "        qml.CNOT(wires = [i, i+1])\n",
    "                \n",
    "    for d in range(w):\n",
    "        qml.RY(param[d+w, 0, 0], wires = [d])\n",
    "        qml.RZ(param[d+w, 0, 1], wires = [d])\n",
    "        \n",
    "#     for i in range(w):\n",
    "#         for j in range(i+1, w):\n",
    "#             qml.CNOT(wires = [i, j])\n",
    "\n",
    "    for i in range(w-1):\n",
    "        qml.CNOT(wires = [i, i+1])\n",
    "        \n",
    "    for d in range(w):\n",
    "        qml.RY(param[d+w+w, 0, 0], wires = [d])\n",
    "        qml.RZ(param[d+w+w, 0, 1], wires = [d])\n",
    "    \n",
    "#     for i in range(w):\n",
    "#         for j in range(i+1, w):\n",
    "#             qml.CNOT(wires = [i, j])\n",
    "            \n",
    "    for i in range(w-1):\n",
    "        qml.CNOT(wires = [i, i+1])\n",
    "        \n",
    "    for d in range(w):\n",
    "        qml.RY(param[d+w+w+w, 0, 0], wires = [d])\n",
    "        qml.RZ(param[d+w+w+w, 0, 1], wires = [d])\n",
    "    \n",
    "    return qml.probs(wires = 0)"
   ]
  },
  {
   "cell_type": "code",
   "execution_count": 22,
   "id": "virtual-psychiatry",
   "metadata": {},
   "outputs": [
    {
     "name": "stdout",
     "output_type": "stream",
     "text": [
      "[0.58851992 0.41148008]\n",
      " 0: ──RY(-0.174)──RZ(-1.48)───╭C───RY(0.864)───RZ(1.53)───────────────╭C────────────RY(-0.516)───RZ(0.585)──────────────╭C───────────RY(1.41)───RZ(1.54)────────────────────────┤ Probs \n",
      " 1: ──RY(-1.56)───RZ(1.23)────╰X──╭C───────────RY(0.292)──RZ(-1.18)───╰X───────────╭C────────────RY(1.04)───RZ(-0.291)──╰X──────────╭C──────────RY(-0.325)──RZ(1.44)────────────┤       \n",
      " 2: ──RY(-0.357)──RZ(-0.107)──────╰X──────────╭C──────────RY(-1.4)─────RZ(-0.481)──╰X───────────╭C──────────RY(0.351)────RZ(0.902)──╰X─────────╭C───────────RY(1.5)───RZ(1.43)──┤       \n",
      " 3: ──RY(-0.287)──RZ(-0.794)──────────────────╰X──────────RY(-0.142)───RZ(1.31)─────────────────╰X──────────RY(0.239)────RZ(0.468)─────────────╰X───────────RY(1.38)──RZ(1.36)──┤       \n",
      "\n"
     ]
    }
   ],
   "source": [
    "# param = [[np.pi, np.pi], [np.pi/2, np.pi/2], [np.pi/3, np.pi/3], [np.pi/4, np.pi/4], [np.pi/5, np.pi/5]]\n",
    "n = 4\n",
    "param = np.random.uniform(low=-np.pi / 2, high=np.pi / 2, size=(16, 1, 2))\n",
    "# print(param)\n",
    "# print(param[3, 0, 1])\n",
    "\n",
    "print(ansatz(param, 4))\n",
    "print(ansatz.draw())"
   ]
  },
  {
   "cell_type": "code",
   "execution_count": null,
   "id": "possible-reward",
   "metadata": {},
   "outputs": [],
   "source": []
  }
 ],
 "metadata": {
  "kernelspec": {
   "display_name": "Python 3",
   "language": "python",
   "name": "python3"
  },
  "language_info": {
   "codemirror_mode": {
    "name": "ipython",
    "version": 3
   },
   "file_extension": ".py",
   "mimetype": "text/x-python",
   "name": "python",
   "nbconvert_exporter": "python",
   "pygments_lexer": "ipython3",
   "version": "3.9.1"
  }
 },
 "nbformat": 4,
 "nbformat_minor": 5
}
