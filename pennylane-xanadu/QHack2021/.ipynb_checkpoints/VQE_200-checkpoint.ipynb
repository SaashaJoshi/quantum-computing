{
 "cells": [
  {
   "cell_type": "code",
   "execution_count": 1,
   "id": "ultimate-stocks",
   "metadata": {},
   "outputs": [],
   "source": [
    "import pennylane as qml\n",
    "from pennylane import numpy as np"
   ]
  },
  {
   "cell_type": "code",
   "execution_count": 2,
   "id": "royal-glossary",
   "metadata": {},
   "outputs": [],
   "source": [
    "dev = qml.device(name = 'default.qubit', wires = 10, shots = 1000)"
   ]
  },
  {
   "cell_type": "code",
   "execution_count": 10,
   "id": "adaptive-sound",
   "metadata": {},
   "outputs": [],
   "source": [
    "@qml.qnode(dev)\n",
    "\n",
    "def ansatz(param, w):\n",
    "    # RyRz Full Entanglement\n",
    "    \n",
    "    for d in range(w):\n",
    "        qml.RY(param[d, 0, 0], wires = [d])\n",
    "        qml.RZ(param[d, 0, 1], wires = [d])\n",
    "        \n",
    "    for i in range(w):\n",
    "        for j in range(i+1, w):\n",
    "            qml.CNOT(wires = [i, j])\n",
    "                \n",
    "#     for d in range(w):\n",
    "#         qml.RY(param[d+w, 0, 0], wires = [d])\n",
    "#         qml.RZ(param[d+w, 0, 1], wires = [d])\n",
    "        \n",
    "#     for i in range(w):\n",
    "#         for j in range(i+1, w):\n",
    "#             qml.CNOT(wires = [i, j])\n",
    "        \n",
    "#     for d in range(w):\n",
    "#         qml.RY(param[d+w+w, 0, 0], wires = [d])\n",
    "#         qml.RZ(param[d+w+w, 0, 1], wires = [d])\n",
    "    \n",
    "#     for i in range(w):\n",
    "#         for j in range(i+1, w):\n",
    "#             qml.CNOT(wires = [i, j])\n",
    "            \n",
    "#     for d in range(w):\n",
    "#         qml.RY(param[d+w+w+w, 0, 0], wires = [d])\n",
    "#         qml.RZ(param[d+w+w+w, 0, 1], wires = [d])\n",
    "    \n",
    "    return qml.probs(wires = 0)"
   ]
  },
  {
   "cell_type": "code",
   "execution_count": 11,
   "id": "virtual-psychiatry",
   "metadata": {},
   "outputs": [
    {
     "name": "stdout",
     "output_type": "stream",
     "text": [
      "[0.9876346 0.0123654]\n",
      " 0: ──RY(-0.223)──RZ(1.2)─────╭C──────────────┤ Probs \n",
      " 1: ──RY(0.549)───RZ(0.189)───╰X──╭C──────────┤       \n",
      " 2: ──RY(-0.18)───RZ(0.0314)──────╰X──╭C──────┤       \n",
      " 3: ──RY(0.973)───RZ(0.561)───────────╰X──╭C──┤       \n",
      " 4: ──────────────────────────────────────╰X──┤       \n",
      "\n"
     ]
    }
   ],
   "source": [
    "# param = [[np.pi, np.pi], [np.pi/2, np.pi/2], [np.pi/3, np.pi/3], [np.pi/4, np.pi/4], [np.pi/5, np.pi/5]]\n",
    "n = 4\n",
    "param = np.random.uniform(low=-np.pi / 2, high=np.pi / 2, size=(16, 1, 2))\n",
    "# print(param)\n",
    "# print(param[3, 0, 1])\n",
    "\n",
    "print(ansatz(param, 4))\n",
    "print(ansatz.draw())"
   ]
  },
  {
   "cell_type": "code",
   "execution_count": null,
   "id": "possible-reward",
   "metadata": {},
   "outputs": [],
   "source": []
  }
 ],
 "metadata": {
  "kernelspec": {
   "display_name": "Python 3",
   "language": "python",
   "name": "python3"
  },
  "language_info": {
   "codemirror_mode": {
    "name": "ipython",
    "version": 3
   },
   "file_extension": ".py",
   "mimetype": "text/x-python",
   "name": "python",
   "nbconvert_exporter": "python",
   "pygments_lexer": "ipython3",
   "version": "3.9.1"
  }
 },
 "nbformat": 4,
 "nbformat_minor": 5
}
