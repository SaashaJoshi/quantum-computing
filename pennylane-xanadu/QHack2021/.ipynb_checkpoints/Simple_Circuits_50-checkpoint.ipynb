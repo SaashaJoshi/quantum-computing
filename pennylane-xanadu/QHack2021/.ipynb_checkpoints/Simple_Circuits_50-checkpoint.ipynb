{
 "cells": [
  {
   "cell_type": "code",
   "execution_count": 1,
   "id": "governmental-fisher",
   "metadata": {},
   "outputs": [],
   "source": [
    "import pennylane as qml\n",
    "from pennylane import numpy as np"
   ]
  },
  {
   "cell_type": "code",
   "execution_count": 15,
   "id": "loved-dealing",
   "metadata": {},
   "outputs": [],
   "source": [
    "dev = qml.device(name = 'default.qubit', wires = 2, shots = 1000)"
   ]
  },
  {
   "cell_type": "code",
   "execution_count": 28,
   "id": "operational-cleanup",
   "metadata": {},
   "outputs": [],
   "source": [
    "@qml.qnode(dev)\n",
    "def circuit(param):\n",
    "    qml.Hadamard(wires = 0)\n",
    "    qml.CNOT(wires = [0, 1])\n",
    "    qml.RY(param, wires = 0)\n",
    "    return qml.expval(qml.PauliZ(wires = 0) @ qml.PauliZ(wires = 1))"
   ]
  },
  {
   "cell_type": "code",
   "execution_count": 30,
   "id": "polyphonic-reconstruction",
   "metadata": {},
   "outputs": [
    {
     "name": "stdout",
     "output_type": "stream",
     "text": [
      "0.3299365180851774\n",
      " 0: ──H──╭C──RY(1.23)──╭┤ ⟨Z ⊗ Z⟩ \n",
      " 1: ─────╰X────────────╰┤ ⟨Z ⊗ Z⟩ \n",
      "\n"
     ]
    }
   ],
   "source": [
    "param = 1.23456\n",
    "print(circuit(param))\n",
    "print(circuit.draw())"
   ]
  },
  {
   "cell_type": "code",
   "execution_count": null,
   "id": "exact-patient",
   "metadata": {},
   "outputs": [],
   "source": []
  }
 ],
 "metadata": {
  "kernelspec": {
   "display_name": "Python 3",
   "language": "python",
   "name": "python3"
  },
  "language_info": {
   "codemirror_mode": {
    "name": "ipython",
    "version": 3
   },
   "file_extension": ".py",
   "mimetype": "text/x-python",
   "name": "python",
   "nbconvert_exporter": "python",
   "pygments_lexer": "ipython3",
   "version": "3.9.1"
  }
 },
 "nbformat": 4,
 "nbformat_minor": 5
}
