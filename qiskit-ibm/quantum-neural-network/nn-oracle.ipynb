{
 "cells": [
  {
   "cell_type": "markdown",
   "metadata": {},
   "source": [
    "## Oracle for Neural Network Architecture\n",
    "\n",
    "### Things to note: (My explanations)\n",
    "1. Quantum operations need to be reversible. Thus, the neural network layers also need to be reversible, i.e. the outputs should be mapped back to the inputs and respective weights. This can be done with the help of an oracle (Refer: Deutsch-Jozsa algorithm).\n",
    "2. Quantum states need to be normalized. (See how?!)\n",
    "3. Check out for the No-Cloning Theorem!"
   ]
  },
  {
   "cell_type": "code",
   "execution_count": 1,
   "metadata": {},
   "outputs": [],
   "source": [
    "import numpy as np\n",
    "import matplotlib.pyplot as plt\n",
    "\n",
    "# import torch\n",
    "# from torch import nn\n",
    "# import torch.nn.functional as F\n",
    "# from torchvision import datasets, transforms\n",
    "\n",
    "from qiskit import *\n",
    "from qiskit.visualization import *"
   ]
  },
  {
   "cell_type": "code",
   "execution_count": 3,
   "metadata": {},
   "outputs": [],
   "source": [
    "def before_oracle(circuit, input_qubits):\n",
    "    circuit.x(input_qubits)\n",
    "    \n",
    "    for qubit in range(input_qubits+1):\n",
    "        circuit.h(qubit)"
   ]
  },
  {
   "cell_type": "code",
   "execution_count": 18,
   "metadata": {},
   "outputs": [],
   "source": [
    "def nn_oracle(input_qubits):\n",
    "    qc = QuantumCircuit(input_qubits+1)\n",
    "    \n",
    "#   Insert some code. (Maybe some activation function!)\n",
    "# Now, linear aactivation function would not make sense becuase the Hadaamrd gate already brings the qubits\n",
    "# in a state of superposition, which itself is a linear combination with normalized quantum states.\n",
    "    \n",
    "    nn_oracle_gate = qc.to_gate()\n",
    "    nn_oracle_gate.name = 'NN_Oracle'\n",
    "    \n",
    "    return nn_oracle_gate"
   ]
  },
  {
   "cell_type": "code",
   "execution_count": 19,
   "metadata": {},
   "outputs": [],
   "source": [
    "def after_oracle(circuit, input_qubits):\n",
    "    for qubit in range(input_qubits):\n",
    "        circuit.h(qubit)"
   ]
  },
  {
   "cell_type": "code",
   "execution_count": 20,
   "metadata": {},
   "outputs": [],
   "source": [
    "def main(input_qubits):\n",
    "    qc = QuantumCircuit(input_qubits+1, input_qubits)    # +1 for Ancilla qubit\n",
    "    \n",
    "    before_oracle(qc, input_qubits)\n",
    "    qc.barrier()\n",
    "    \n",
    "    nn_oracle_gate = nn_oracle(input_qubits)\n",
    "    qc.append(nn_oracle_gate, range(input_qubits+1))\n",
    "    \n",
    "    qc.barrier()\n",
    "    after_oracle(qc, input_qubits)\n",
    "    \n",
    "    qc.barrier()\n",
    "    qc.measure(range(input_qubits), range(input_qubits))    # Check which qubits to measure! input_qubits or ancilla?\n",
    "    \n",
    "    display(qc.draw('mpl'))\n",
    "    \n",
    "    return qc"
   ]
  },
  {
   "cell_type": "code",
   "execution_count": 21,
   "metadata": {},
   "outputs": [
    {
     "name": "stdout",
     "output_type": "stream",
     "text": [
      "Enter number of qubit inputs: 3\n"
     ]
    },
    {
     "data": {
      "image/png": "[encoded data removed]",
      "text/plain": [
       "<Figure size 960.792x325.08 with 1 Axes>"
      ]
     },
     "metadata": {},
     "output_type": "display_data"
    },
    {
     "data": {
      "text/plain": [
       "<qiskit.circuit.quantumcircuit.QuantumCircuit at 0x7f9c5997f390>"
      ]
     },
     "execution_count": 21,
     "metadata": {},
     "output_type": "execute_result"
    }
   ],
   "source": [
    "input_qubits = int(input('Enter number of qubit inputs: '))\n",
    "main(input_qubits)"
   ]
  },
  {
   "cell_type": "markdown",
   "metadata": {},
   "source": [
    "### References\n",
    "1. https://silky.github.io/posts/2016-12-11-quantum-neural-networks.html"
   ]
  }
 ],
 "metadata": {
  "kernelspec": {
   "display_name": "Python 3",
   "language": "python",
   "name": "python3"
  },
  "language_info": {
   "codemirror_mode": {
    "name": "ipython",
    "version": 3
   },
   "file_extension": ".py",
   "mimetype": "text/x-python",
   "name": "python",
   "nbconvert_exporter": "python",
   "pygments_lexer": "ipython3",
   "version": "3.7.6"
  }
 },
 "nbformat": 4,
 "nbformat_minor": 2
}
