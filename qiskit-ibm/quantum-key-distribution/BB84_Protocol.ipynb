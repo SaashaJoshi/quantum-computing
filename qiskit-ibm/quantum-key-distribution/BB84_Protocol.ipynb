{
 "cells": [
  {
   "cell_type": "code",
   "execution_count": 12,
   "metadata": {},
   "outputs": [],
   "source": [
    "import numpy as np\n",
    "from qiskit import *"
   ]
  },
  {
   "cell_type": "code",
   "execution_count": 14,
   "metadata": {},
   "outputs": [],
   "source": [
    "# Number of qubits in string\n",
    "n_qubits = 8\n",
    "# n_qubits = int(input('Enter number of qubits in the string: '))\n",
    "\n",
    "# Get Alice's random string, Alice's basis, Bob's basis\n",
    "alice_random_string = np.random.randint(2, size = n_qubits)\n",
    "\n",
    "# Here basis are represented with a biniary number \n",
    "# Standard/Computational basis: 0, Hadamard basis: 1\n",
    "alice_basis = np.random.randint(2, size = n_qubits)\n",
    "bob_basis = np.random.randint(2, size = n_qubits)"
   ]
  },
  {
   "cell_type": "markdown",
   "metadata": {},
   "source": [
    "### |0> No gate\n",
    "### |1> X gate\n",
    "### |+> H gate\n",
    "### |-> HX gate"
   ]
  },
  {
   "cell_type": "code",
   "execution_count": 15,
   "metadata": {},
   "outputs": [
    {
     "ename": "IndentationError",
     "evalue": "expected an indented block (<ipython-input-15-3772c35e6056>, line 5)",
     "output_type": "error",
     "traceback": [
      "\u001b[0;36m  File \u001b[0;32m\"<ipython-input-15-3772c35e6056>\"\u001b[0;36m, line \u001b[0;32m5\u001b[0m\n\u001b[0;31m    if alice_basis[index] == 1:\u001b[0m\n\u001b[0m     ^\u001b[0m\n\u001b[0;31mIndentationError\u001b[0m\u001b[0;31m:\u001b[0m expected an indented block\n"
     ]
    }
   ],
   "source": [
    "# Alice\n",
    "for index in range(len(alice_random_string)):\n",
    "    if alice_random_string[index] == 1:\n",
    "#         .x(index)\n",
    "    if alice_basis[index] == 1:\n",
    "#         .h(index)\n",
    "\n",
    "# Bob\n",
    "for index in range(len(bob_basis)):\n",
    "    if bob_basis[index] == 1:\n",
    "#         .h(index)"
   ]
  },
  {
   "cell_type": "code",
   "execution_count": null,
   "metadata": {},
   "outputs": [],
   "source": [
    "def bb84_protocol(index):\n",
    "    "
   ]
  }
 ],
 "metadata": {
  "kernelspec": {
   "display_name": "Python 3",
   "language": "python",
   "name": "python3"
  },
  "language_info": {
   "codemirror_mode": {
    "name": "ipython",
    "version": 3
   },
   "file_extension": ".py",
   "mimetype": "text/x-python",
   "name": "python",
   "nbconvert_exporter": "python",
   "pygments_lexer": "ipython3",
   "version": "3.7.6"
  }
 },
 "nbformat": 4,
 "nbformat_minor": 2
}
