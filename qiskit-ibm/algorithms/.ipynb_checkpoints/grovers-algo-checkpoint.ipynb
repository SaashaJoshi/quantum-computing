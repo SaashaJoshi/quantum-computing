{
 "cells": [
  {
   "cell_type": "code",
   "execution_count": 4,
   "metadata": {},
   "outputs": [],
   "source": [
    "from qiskit import *\n",
    "from qiskit.visualization import plot_histogram, plot_bloch_multivector, plot_state_qsphere"
   ]
  },
  {
   "cell_type": "markdown",
   "metadata": {},
   "source": [
    "## For 2 qubits "
   ]
  },
  {
   "cell_type": "markdown",
   "metadata": {},
   "source": [
    "### |w> = |00>"
   ]
  },
  {
   "cell_type": "code",
   "execution_count": 21,
   "metadata": {},
   "outputs": [
    {
     "data": {
      "image/png": "[encoded data removed]",
      "text/plain": [
       "<Figure size 418.992x144.48 with 1 Axes>"
      ]
     },
     "execution_count": 21,
     "metadata": {},
     "output_type": "execute_result"
    }
   ],
   "source": [
    "# Oracle!\n",
    "# Make Quantum Circuit of 'n' qubits. Here, 2\n",
    "n = 2\n",
    "qc = QuantumCircuit(n, name = 'Oracle')\n",
    "\n",
    "for qubits in range(n):\n",
    "    qc.h(qubits)\n",
    "\n",
    "# Apply X to all qubits (beacuse |w> = |00>)    \n",
    "for qubits in range(n):\n",
    "    qc.x(qubits)\n",
    "\n",
    "qc.cz(0, 1)\n",
    "\n",
    "for qubits in range(n):\n",
    "    qc.x(qubits)\n",
    "\n",
    "qc.draw('mpl')"
   ]
  },
  {
   "cell_type": "code",
   "execution_count": 22,
   "metadata": {},
   "outputs": [
    {
     "data": {
      "image/png": "[encoded data removed]",
      "text/plain": [
       "<Figure size 539.392x144.48 with 1 Axes>"
      ]
     },
     "execution_count": 22,
     "metadata": {},
     "output_type": "execute_result"
    }
   ],
   "source": [
    "# Diffuser!\n",
    "for qubits in range(n):\n",
    "    qc.h(qubits)\n",
    "    \n",
    "# Reflection\n",
    "\n",
    "for qubits in range(n):\n",
    "    qc.h(qubits)\n",
    "\n",
    "qc.draw('mpl')"
   ]
  },
  {
   "cell_type": "markdown",
   "metadata": {},
   "source": [
    "### |w> = |01>"
   ]
  },
  {
   "cell_type": "code",
   "execution_count": 23,
   "metadata": {},
   "outputs": [
    {
     "data": {
      "image/png": "[encoded data removed]",
      "text/plain": [
       "<Figure size 418.992x144.48 with 1 Axes>"
      ]
     },
     "execution_count": 23,
     "metadata": {},
     "output_type": "execute_result"
    }
   ],
   "source": [
    "# Oracle!\n",
    "n = 2\n",
    "qc = QuantumCircuit(n, name = 'Oracle')\n",
    "\n",
    "for qubits in range(n):\n",
    "    qc.h(qubits)\n",
    "\n",
    "# Apply X gate to qubit with vector |0> \n",
    "qc.x(0)\n",
    "qc.cz(0, 1)\n",
    "qc.x(0)\n",
    "\n",
    "qc.draw('mpl')"
   ]
  },
  {
   "cell_type": "code",
   "execution_count": null,
   "metadata": {},
   "outputs": [],
   "source": [
    "# Diffuser!\n",
    "for qubits in range(n):\n",
    "    qc.h(qubits)\n",
    "    \n",
    "# Reflection\n",
    "\n",
    "for qubits in range(n):\n",
    "    qc.h(qubits)\n",
    "\n",
    "qc.draw('mpl')"
   ]
  },
  {
   "cell_type": "markdown",
   "metadata": {},
   "source": [
    "### |w> = |10>"
   ]
  },
  {
   "cell_type": "code",
   "execution_count": 24,
   "metadata": {},
   "outputs": [
    {
     "data": {
      "image/png": "[encoded data removed]",
      "text/plain": [
       "<Figure size 418.992x144.48 with 1 Axes>"
      ]
     },
     "execution_count": 24,
     "metadata": {},
     "output_type": "execute_result"
    }
   ],
   "source": [
    "# Oracle!\n",
    "n = 2\n",
    "qc = QuantumCircuit(n, name = 'Oracle')\n",
    "\n",
    "for qubits in range(n):\n",
    "    qc.h(qubits)\n",
    "\n",
    "# Apply X gate to qubit with vector |0> \n",
    "qc.x(1)\n",
    "qc.cz(0, 1)\n",
    "qc.x(1)\n",
    "\n",
    "qc.draw('mpl')"
   ]
  },
  {
   "cell_type": "code",
   "execution_count": null,
   "metadata": {},
   "outputs": [],
   "source": [
    "# Diffuser!\n",
    "for qubits in range(n):\n",
    "    qc.h(qubits)\n",
    "    \n",
    "# Reflection\n",
    "\n",
    "for qubits in range(n):\n",
    "    qc.h(qubits)\n",
    "\n",
    "qc.draw('mpl')"
   ]
  },
  {
   "cell_type": "markdown",
   "metadata": {},
   "source": [
    "### |w> = |11>"
   ]
  },
  {
   "cell_type": "code",
   "execution_count": 16,
   "metadata": {},
   "outputs": [
    {
     "data": {
      "image/png": "[encoded data removed]",
      "text/plain": [
       "<Figure size 298.592x144.48 with 1 Axes>"
      ]
     },
     "execution_count": 16,
     "metadata": {},
     "output_type": "execute_result"
    }
   ],
   "source": [
    "# Oracle!\n",
    "n = 2\n",
    "qc = QuantumCircuit(n, name = 'Oracle')\n",
    "\n",
    "for qubits in range(n):\n",
    "    qc.h(qubits)\n",
    "\n",
    "qc.cz(0, 1)\n",
    "\n",
    "qc.draw('mpl')"
   ]
  },
  {
   "cell_type": "code",
   "execution_count": null,
   "metadata": {},
   "outputs": [],
   "source": [
    "# Diffuser!\n",
    "for qubits in range(n):\n",
    "    qc.h(qubits)\n",
    "    \n",
    "# Reflection\n",
    "\n",
    "for qubits in range(n):\n",
    "    qc.h(qubits)\n",
    "\n",
    "qc.draw('mpl')"
   ]
  }
 ],
 "metadata": {
  "kernelspec": {
   "display_name": "Python 3",
   "language": "python",
   "name": "python3"
  },
  "language_info": {
   "codemirror_mode": {
    "name": "ipython",
    "version": 3
   },
   "file_extension": ".py",
   "mimetype": "text/x-python",
   "name": "python",
   "nbconvert_exporter": "python",
   "pygments_lexer": "ipython3",
   "version": "3.7.6"
  }
 },
 "nbformat": 4,
 "nbformat_minor": 2
}
