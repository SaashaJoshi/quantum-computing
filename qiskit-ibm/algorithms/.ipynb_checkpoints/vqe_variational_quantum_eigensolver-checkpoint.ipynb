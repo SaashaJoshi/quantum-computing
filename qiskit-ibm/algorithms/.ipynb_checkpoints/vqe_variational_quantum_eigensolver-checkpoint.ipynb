{
 "cells": [
  {
   "cell_type": "code",
   "execution_count": 23,
   "metadata": {},
   "outputs": [],
   "source": [
    "from qiskit import *\n",
    "from qiskit.visualization import *\n",
    "from math import pi"
   ]
  },
  {
   "cell_type": "markdown",
   "metadata": {},
   "source": [
    "## For 1-qubit Hamiltonian\n",
    "\n",
    "                                        H = a.I + b.X + c.Y + d.Z"
   ]
  },
  {
   "cell_type": "markdown",
   "metadata": {},
   "source": [
    "### Quantum Part"
   ]
  },
  {
   "cell_type": "code",
   "execution_count": 3,
   "metadata": {},
   "outputs": [],
   "source": [
    "# Ansatz must represent different states in Hilbert Space.\n",
    "# These Ry and Rx gates allow representation of any state on a bloch sphere. \n",
    "# Rotations are performed around both the x-axis and the y-axis.\n",
    "\n",
    "# We could choose a different ansatz here as all the states on a bloch sphere are not needed to be represented for generating a trial wavefinction in this case.\n",
    "\n",
    "def ansatz(circuit, parameter):  \n",
    "    circuit.ry(parameter, 0)    # A rotation around y-axis\n",
    "    circuit.rx(parameter, 0)    # A rotation around x-axis\n",
    "    \n",
    "    return circuit"
   ]
  },
  {
   "cell_type": "code",
   "execution_count": 4,
   "metadata": {},
   "outputs": [],
   "source": [
    "def change_basis(circuit, hamiltonian_term):\n",
    "    if hamiltonian_term == 'X':\n",
    "        circuit.h(0)\n",
    "        # or use circuit.u2(0, pi, 0)\n",
    "    if hamiltonian_term == 'Y':\n",
    "        circuit.u2(0, pi/2, 0)\n",
    "        \n",
    "    return circuit"
   ]
  },
  {
   "cell_type": "code",
   "execution_count": 31,
   "metadata": {},
   "outputs": [],
   "source": [
    "def vqe(n, circuit, hamiltonian_term):\n",
    "    if hamiltonian_term == 'I':\n",
    "        return 1\n",
    "    if hamiltonian_term == 'Z':\n",
    "        circuit.measure(range(n), range(n))\n",
    "    if hamiltonian_term == 'X':\n",
    "        change_basis(circuit, hamiltonian_term)\n",
    "        circuit.measure(range(n), range(n))\n",
    "    if hamiltonian_term == 'Y':\n",
    "        change_basis(circuit, hamiltonian_term)\n",
    "        circuit.measure(range(n), range(n))\n",
    "        \n",
    "    return circuit"
   ]
  },
  {
   "cell_type": "code",
   "execution_count": 32,
   "metadata": {},
   "outputs": [],
   "source": [
    "def main(n, parameter, hamiltonian_term):\n",
    "    circuit = QuantumCircuit(n, n)\n",
    "    \n",
    "    # Ansatz\n",
    "    ansatz(circuit, parameter)\n",
    "    \n",
    "    circuit.barrier()\n",
    "    \n",
    "    # Apply VQE + Change basis + Measurement\n",
    "    vqe(n, circuit, hamiltonian_term)\n",
    "        \n",
    "    return circuit"
   ]
  },
  {
   "cell_type": "markdown",
   "metadata": {},
   "source": [
    "#### Hamiltonian Term Y"
   ]
  },
  {
   "cell_type": "code",
   "execution_count": 33,
   "metadata": {},
   "outputs": [
    {
     "data": {
      "image/png": "[encoded data removed]",
      "text/plain": [
       "<Figure size 428.506x144.48 with 1 Axes>"
      ]
     },
     "execution_count": 33,
     "metadata": {},
     "output_type": "execute_result"
    }
   ],
   "source": [
    "n = 1\n",
    "parameter = pi\n",
    "hamiltonian_term = 'Y'\n",
    "circuit = main(n, parameter, hamiltonian_term)\n",
    "circuit.draw('mpl')"
   ]
  },
  {
   "cell_type": "code",
   "execution_count": 34,
   "metadata": {},
   "outputs": [
    {
     "name": "stdout",
     "output_type": "stream",
     "text": [
      "{'0': 505, '1': 519}\n"
     ]
    },
    {
     "data": {
      "image/png": "[encoded data removed]",
      "text/plain": [
       "<Figure size 504x360 with 1 Axes>"
      ]
     },
     "execution_count": 34,
     "metadata": {},
     "output_type": "execute_result"
    }
   ],
   "source": [
    "backend = Aer.get_backend('qasm_simulator')\n",
    "results = execute(circuit, backend, shots = 1024).result()\n",
    "counts = results.get_counts()\n",
    "print(counts)\n",
    "plot_histogram(counts)"
   ]
  },
  {
   "cell_type": "code",
   "execution_count": 54,
   "metadata": {},
   "outputs": [
    {
     "name": "stdout",
     "output_type": "stream",
     "text": [
      "-0.5068359375\n"
     ]
    }
   ],
   "source": [
    "expectation_val = 0\n",
    "\n",
    "for i in counts:\n",
    "    sign = 1\n",
    "    if i == '1':\n",
    "        sign = -1\n",
    "        expectation_val += (sign * counts[i])\n",
    "        \n",
    "expectation_val = expectation_val/1024\n",
    "y_expectation_val = expectation_val\n",
    "print(y_expectation_val)"
   ]
  },
  {
   "cell_type": "markdown",
   "metadata": {},
   "source": [
    "#### Hamiltonian Term X"
   ]
  },
  {
   "cell_type": "code",
   "execution_count": 55,
   "metadata": {},
   "outputs": [
    {
     "data": {
      "image/png": "[encoded data removed]",
      "text/plain": [
       "<Figure size 428.506x144.48 with 1 Axes>"
      ]
     },
     "execution_count": 55,
     "metadata": {},
     "output_type": "execute_result"
    }
   ],
   "source": [
    "n = 1\n",
    "parameter = pi\n",
    "hamiltonian_term = 'X'\n",
    "circuit = main(n, parameter, hamiltonian_term)\n",
    "circuit.draw('mpl')"
   ]
  },
  {
   "cell_type": "code",
   "execution_count": 56,
   "metadata": {},
   "outputs": [
    {
     "name": "stdout",
     "output_type": "stream",
     "text": [
      "{'0': 509, '1': 515}\n"
     ]
    },
    {
     "data": {
      "image/png": "[encoded data removed]",
      "text/plain": [
       "<Figure size 504x360 with 1 Axes>"
      ]
     },
     "execution_count": 56,
     "metadata": {},
     "output_type": "execute_result"
    }
   ],
   "source": [
    "backend = Aer.get_backend('qasm_simulator')\n",
    "results = execute(circuit, backend, shots = 1024).result()\n",
    "counts = results.get_counts()\n",
    "print(counts)\n",
    "plot_histogram(counts)"
   ]
  },
  {
   "cell_type": "code",
   "execution_count": 57,
   "metadata": {},
   "outputs": [
    {
     "name": "stdout",
     "output_type": "stream",
     "text": [
      "-0.5068359375\n"
     ]
    }
   ],
   "source": [
    "expectation_val = 0\n",
    "\n",
    "for i in counts:\n",
    "    sign = 1\n",
    "    if i == '1':\n",
    "        sign = -1\n",
    "        expectation_val += (sign * counts[i])\n",
    "        \n",
    "expectation_val = expectation_val/1024\n",
    "x_expectation_val = expectation_val\n",
    "print(y_expectation_val)"
   ]
  },
  {
   "cell_type": "markdown",
   "metadata": {},
   "source": [
    "#### Hamiltonian Term Z"
   ]
  },
  {
   "cell_type": "code",
   "execution_count": 58,
   "metadata": {},
   "outputs": [
    {
     "data": {
      "image/png": "[encoded data removed]",
      "text/plain": [
       "<Figure size 368.306x144.48 with 1 Axes>"
      ]
     },
     "execution_count": 58,
     "metadata": {},
     "output_type": "execute_result"
    }
   ],
   "source": [
    "n = 1\n",
    "parameter = pi\n",
    "hamiltonian_term = 'Z'\n",
    "circuit = main(n, parameter, hamiltonian_term)\n",
    "circuit.draw('mpl')"
   ]
  },
  {
   "cell_type": "code",
   "execution_count": 59,
   "metadata": {},
   "outputs": [
    {
     "name": "stdout",
     "output_type": "stream",
     "text": [
      "{'0': 1024}\n"
     ]
    },
    {
     "data": {
      "image/png": "[encoded data removed]",
      "text/plain": [
       "<Figure size 504x360 with 1 Axes>"
      ]
     },
     "execution_count": 59,
     "metadata": {},
     "output_type": "execute_result"
    }
   ],
   "source": [
    "backend = Aer.get_backend('qasm_simulator')\n",
    "results = execute(circuit, backend, shots = 1024).result()\n",
    "counts = results.get_counts()\n",
    "print(counts)\n",
    "plot_histogram(counts)"
   ]
  },
  {
   "cell_type": "code",
   "execution_count": 60,
   "metadata": {},
   "outputs": [
    {
     "name": "stdout",
     "output_type": "stream",
     "text": [
      "-0.5068359375\n"
     ]
    }
   ],
   "source": [
    "expectation_val = 0\n",
    "\n",
    "for i in counts:\n",
    "    sign = 1\n",
    "    if i == '1':\n",
    "        sign = -1\n",
    "        expectation_val += (sign * counts[i])\n",
    "        \n",
    "expectation_val = expectation_val/1024\n",
    "z_expectation_val = expectation_val\n",
    "print(y_expectation_val)"
   ]
  },
  {
   "cell_type": "code",
   "execution_count": 62,
   "metadata": {},
   "outputs": [
    {
     "name": "stdout",
     "output_type": "stream",
     "text": [
      "0.14482421874999996\n"
     ]
    }
   ],
   "source": [
    "# Hamiltonian\n",
    "H = 0.7 + (0.6 * x_expectation_val) + (0.5 * y_expectation_val) + (0.1 * z_expectation_val)\n",
    "print(H)"
   ]
  },
  {
   "cell_type": "markdown",
   "metadata": {},
   "source": [
    "### Classical Part"
   ]
  },
  {
   "cell_type": "code",
   "execution_count": null,
   "metadata": {},
   "outputs": [],
   "source": []
  },
  {
   "cell_type": "code",
   "execution_count": null,
   "metadata": {},
   "outputs": [],
   "source": []
  },
  {
   "cell_type": "code",
   "execution_count": null,
   "metadata": {},
   "outputs": [],
   "source": []
  },
  {
   "cell_type": "markdown",
   "metadata": {},
   "source": [
    "##### Refer: https://www.mustythoughts.com/variational-quantum-eigensolver-explained\n",
    "##### Refer: https://github.com/DavitKhach/quantum-algorithms-tutorials/blob/master/variational_quantum_eigensolver.ipynb"
   ]
  }
 ],
 "metadata": {
  "kernelspec": {
   "display_name": "Python 3",
   "language": "python",
   "name": "python3"
  },
  "language_info": {
   "codemirror_mode": {
    "name": "ipython",
    "version": 3
   },
   "file_extension": ".py",
   "mimetype": "text/x-python",
   "name": "python",
   "nbconvert_exporter": "python",
   "pygments_lexer": "ipython3",
   "version": "3.7.6"
  }
 },
 "nbformat": 4,
 "nbformat_minor": 2
}
