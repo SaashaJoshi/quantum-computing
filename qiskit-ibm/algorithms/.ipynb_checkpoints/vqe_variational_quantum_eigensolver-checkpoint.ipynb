{
 "cells": [
  {
   "cell_type": "code",
   "execution_count": 1,
   "metadata": {},
   "outputs": [],
   "source": [
    "from qiskit import *\n",
    "from qiskit.visualization import *\n",
    "from math import pi\n",
    "import numpy as np\n",
    "from random import random"
   ]
  },
  {
   "cell_type": "markdown",
   "metadata": {},
   "source": [
    "## For 1-qubit Hamiltonian\n",
    "\n",
    "                                        H = a.I + b.X + c.Y + d.Z"
   ]
  },
  {
   "cell_type": "markdown",
   "metadata": {},
   "source": [
    "* **Hamiltonian Mapping:** -\n",
    "* **Initial State:** Zero\n",
    "* **Ansatz (PQC):** RxRy\n",
    "* **Optimizer:** Powell\n",
    "* **Noise:** -"
   ]
  },
  {
   "cell_type": "code",
   "execution_count": 2,
   "metadata": {},
   "outputs": [],
   "source": [
    "# Ansatz must represent different states in Hilbert Space.\n",
    "# These Ry and Rx gates allow representation of any state on a bloch sphere. \n",
    "# Rotations are performed around both the x-axis and the y-axis.\n",
    "\n",
    "# We could choose a different ansatz here as all the states on a bloch sphere are not needed to be represented for generating a trial wavefinction in this case.\n",
    "\n",
    "def ansatz(circuit, parameter):  \n",
    "    circuit.ry(parameter[1], 0)    # A rotation around y-axis\n",
    "    circuit.rx(parameter[0], 0)    # A rotation around x-axis\n",
    "    \n",
    "    return circuit"
   ]
  },
  {
   "cell_type": "code",
   "execution_count": 3,
   "metadata": {},
   "outputs": [],
   "source": [
    "def change_basis(circuit, hamiltonian_term):\n",
    "    if hamiltonian_term == 'X':\n",
    "        circuit.h(0)\n",
    "        # or use circuit.u2(0, pi, 0)\n",
    "    if hamiltonian_term == 'Y':\n",
    "        circuit.u2(0, pi/2, 0)\n",
    "        \n",
    "    return circuit"
   ]
  },
  {
   "cell_type": "code",
   "execution_count": 4,
   "metadata": {},
   "outputs": [],
   "source": [
    "def measure_expectation(n, circuit, hamiltonian_term):\n",
    "    if hamiltonian_term == 'I':\n",
    "        return 1\n",
    "    if hamiltonian_term == 'Z':\n",
    "        circuit.measure(range(n), range(n))\n",
    "    if hamiltonian_term == 'X':\n",
    "        change_basis(circuit, hamiltonian_term)\n",
    "        circuit.measure(range(n), range(n))\n",
    "    if hamiltonian_term == 'Y':\n",
    "        change_basis(circuit, hamiltonian_term)\n",
    "        circuit.measure(range(n), range(n))\n",
    "        \n",
    "    backend = Aer.get_backend('qasm_simulator')\n",
    "    results = execute(circuit, backend, shots = 1024).result()\n",
    "    counts = results.get_counts()\n",
    "    # print(counts)\n",
    "    # plot_histogram(counts)\n",
    "        \n",
    "    expectation_val = 0\n",
    "\n",
    "    for i in counts:\n",
    "        sign = 1\n",
    "        if i == '1':\n",
    "            sign = -1\n",
    "            expectation_val += (sign * counts[i])\n",
    "\n",
    "    expectation_val = expectation_val/1024\n",
    "    expectation_val = expectation_val\n",
    "    # print(expectation_val)\n",
    "    \n",
    "    return expectation_val"
   ]
  },
  {
   "cell_type": "code",
   "execution_count": 5,
   "metadata": {},
   "outputs": [],
   "source": [
    "def classical_adder(n, circuit, coefficients):\n",
    "    quantum_module_I = coefficients['I'] * measure_expectation(n, circuit, 'I')\n",
    "    quantum_module_Z = coefficients['Z'] * measure_expectation(n, circuit, 'Z')\n",
    "    quantum_module_Y = coefficients['Y'] * measure_expectation(n, circuit, 'Y')\n",
    "    quantum_module_X = coefficients['X'] * measure_expectation(n, circuit, 'X')\n",
    "\n",
    "    classical_adder_result = quantum_module_I + quantum_module_X + quantum_module_Y + quantum_module_Z\n",
    "    \n",
    "    return classical_adder_result"
   ]
  },
  {
   "cell_type": "code",
   "execution_count": 6,
   "metadata": {},
   "outputs": [],
   "source": [
    "def main(parameter, n, Hamiltonian, coefficients):\n",
    "    circuit = QuantumCircuit(n, n)\n",
    "    \n",
    "    # Ansatz\n",
    "    ansatz(circuit, parameter)\n",
    "    \n",
    "    circuit.barrier()\n",
    "    \n",
    "    # Apply Change basis + Measurement + Expectation Value\n",
    "    classical_adder_result = classical_adder(n, circuit, coefficients)\n",
    "        \n",
    "    return classical_adder_result"
   ]
  },
  {
   "cell_type": "code",
   "execution_count": 14,
   "metadata": {},
   "outputs": [
    {
     "name": "stdout",
     "output_type": "stream",
     "text": [
      "{'I': 7.949215609719808, 'X': 6.799722129678721, 'Y': 2.609278996035881, 'Z': 7.00401591904898}\n"
     ]
    }
   ],
   "source": [
    "from qiskit.aqua.operators import WeightedPauliOperator\n",
    "\n",
    "scale = 10\n",
    "# coefficients = {'I': 0.7, 'X': 0.6, 'Y': 0.5, 'Z': 0.1}\n",
    "coefficients = {'I': scale * random(), 'X': scale * random(), 'Y': scale * random(), 'Z': scale * random()}\n",
    "print(coefficients)"
   ]
  },
  {
   "cell_type": "code",
   "execution_count": 15,
   "metadata": {},
   "outputs": [
    {
     "name": "stdout",
     "output_type": "stream",
     "text": [
      "3.440373513694437\n"
     ]
    },
    {
     "name": "stderr",
     "output_type": "stream",
     "text": [
      "<ipython-input-3-5cbb27ac4c56>:6: DeprecationWarning: The QuantumCircuit.u2 method is deprecated as of 0.16.0. It will be removed no earlier than 3 months after the release date. You can use the general 1-qubit gate QuantumCircuit.u instead: u2(φ,λ) = u(π/2, φ, λ). Alternatively, you can decompose it interms of QuantumCircuit.p and QuantumCircuit.sx: u2(φ,λ) = p(π/2+φ) sx p(λ-π/2) (1 pulse on hardware).\n",
      "  circuit.u2(0, pi/2, 0)\n"
     ]
    }
   ],
   "source": [
    "n = 1\n",
    "parameter = np.array([np.pi, np.pi])\n",
    "# parameter = np.array([np.pi]) or just np.array([pi])\n",
    "# Why need a numpy array here?\n",
    "\n",
    "Hamiltonian = ['I', 'X', 'Y', 'Z']\n",
    "\n",
    "vqe_result = main(parameter, n, Hamiltonian, coefficients)\n",
    "print(vqe_result)"
   ]
  },
  {
   "cell_type": "markdown",
   "metadata": {},
   "source": [
    "### Minimization / Optimization"
   ]
  },
  {
   "cell_type": "code",
   "execution_count": null,
   "metadata": {},
   "outputs": [],
   "source": [
    "# !!!!!!!! IMPORTANT !!!!!!!\n",
    "# For this minimize function to work, the func to be minimized needs to have this form:\n",
    "# func(array, *args)\n",
    "\n",
    "# minimize(function (to be minimized), array (initial guess), args = (additional arguments of the function), method)\n",
    "# Refer this: https://docs.scipy.org/doc/scipy/reference/generated/scipy.optimize.minimize.html"
   ]
  },
  {
   "cell_type": "code",
   "execution_count": 16,
   "metadata": {},
   "outputs": [
    {
     "name": "stdout",
     "output_type": "stream",
     "text": [
      "-3.803259439993395\n"
     ]
    }
   ],
   "source": [
    "from scipy.optimize import minimize\n",
    "\n",
    "tol = 1e-3    # Tolerance\n",
    "result = minimize(main, parameter, args = (n, Hamiltonian, coefficients), method = 'Powell')\n",
    "# print(result)\n",
    "print(result.fun)"
   ]
  },
  {
   "cell_type": "markdown",
   "metadata": {},
   "source": [
    "**Refer:** https://www.mustythoughts.com/variational-quantum-eigensolver-explained\n",
    "\n",
    "**Refer:** https://github.com/DavitKhach/quantum-algorithms-tutorials/blob/master/variational_quantum_eigensolver.ipynb\n",
    "\n",
    "For scipy.optimize.minimize function, **Refer:** https://github.com/scipy/scipy/blob/master/scipy/optimize/_minimize.py"
   ]
  }
 ],
 "metadata": {
  "kernelspec": {
   "display_name": "Python 3",
   "language": "python",
   "name": "python3"
  },
  "language_info": {
   "codemirror_mode": {
    "name": "ipython",
    "version": 3
   },
   "file_extension": ".py",
   "mimetype": "text/x-python",
   "name": "python",
   "nbconvert_exporter": "python",
   "pygments_lexer": "ipython3",
   "version": "3.9.1"
  }
 },
 "nbformat": 4,
 "nbformat_minor": 2
}
