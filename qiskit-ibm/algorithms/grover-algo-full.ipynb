{
 "cells": [
  {
   "cell_type": "markdown",
   "metadata": {},
   "source": [
    "### For 4 qubits"
   ]
  },
  {
   "cell_type": "code",
   "execution_count": 1,
   "metadata": {},
   "outputs": [],
   "source": [
    "from qiskit import *\n",
    "from qiskit.visualization import *\n",
    "from math import pi, sqrt\n",
    "import numpy as np"
   ]
  },
  {
   "cell_type": "code",
   "execution_count": 2,
   "metadata": {},
   "outputs": [],
   "source": [
    "def grover_operator(circuit, n, target_binary):\n",
    "    # Grover's Oracle\n",
    "    oracle_gate = grover_oracle(n, target_binary)\n",
    "    circuit.append(oracle_gate, range(n+1))\n",
    "    \n",
    "    circuit.h(range(n+1))\n",
    "        \n",
    "    # Amplifier\n",
    "    amplification_gate = amplification(n)\n",
    "    circuit.append(amplification_gate, range(n))\n",
    "\n",
    "    circuit.h(range(n))"
   ]
  },
  {
   "cell_type": "code",
   "execution_count": 3,
   "metadata": {},
   "outputs": [],
   "source": [
    "def grover_oracle(n, target_binary):\n",
    "    circuit = QuantumCircuit(n+1)\n",
    "    \n",
    "    # Grover's Oracle\n",
    "    for index, value in reversed(list(enumerate(target_binary))):  \n",
    "        if value == '0':\n",
    "            circuit.x(n-1-index)    \n",
    "            # Adding X gate to the qubit with |0> value. Also the order of qubits is reversed in Qiskit.\n",
    "       \n",
    "    control_qubits = [0, 1, 2, 3]\n",
    "    circuit.mct(control_qubits, n, n)\n",
    "\n",
    "    for index, value in enumerate(target_binary):  \n",
    "        if value == '0':\n",
    "            circuit.x(n-1-index)  \n",
    "    \n",
    "    oracle_gate = circuit.to_gate()\n",
    "    oracle_gate.name = 'Oracle'\n",
    "    \n",
    "    return oracle_gate"
   ]
  },
  {
   "cell_type": "code",
   "execution_count": 4,
   "metadata": {},
   "outputs": [],
   "source": [
    "def amplification(n):\n",
    "    circuit = QuantumCircuit(n)\n",
    "    \n",
    "    circuit.x(range(n))\n",
    "    \n",
    "    # Amplifier\n",
    "    # V\n",
    "    circuit.cu1(pi/4, 0, 3)\n",
    "\n",
    "    # V-dagger\n",
    "    circuit.cx(0, 1)\n",
    "    circuit.cu1(-pi/4, 1, 3)\n",
    "    circuit.cx(0, 1)\n",
    "\n",
    "    # V\n",
    "    circuit.cu1(pi/4, 1, 3)\n",
    "\n",
    "    # V-dagger\n",
    "    circuit.cx(1, 2)\n",
    "    circuit.cu1(-pi/4, 2, 3)\n",
    "\n",
    "    # V\n",
    "    circuit.cx(0, 2)\n",
    "    circuit.cu1(pi/4, 2, 3)\n",
    "\n",
    "    # V-dagger\n",
    "    circuit.cx(1, 2)\n",
    "    circuit.cu1(-pi/4, 2, 3)\n",
    "\n",
    "    # V\n",
    "    circuit.cx(0, 2)\n",
    "    circuit.cu1(pi/4, 2, 3)\n",
    "    \n",
    "    circuit.x(range(n))\n",
    "\n",
    "    amplification_gate = circuit.to_gate()\n",
    "    amplification_gate.name = 'Amplification'\n",
    "    \n",
    "    return amplification_gate"
   ]
  },
  {
   "cell_type": "code",
   "execution_count": 5,
   "metadata": {},
   "outputs": [],
   "source": [
    "def initialize(circuit, n):\n",
    "    # circuit.reset(range(n+1))\n",
    "    circuit.x(n)\n",
    "    circuit.barrier()\n",
    "\n",
    "    circuit.h(range(n+1))\n",
    "    circuit.barrier()"
   ]
  },
  {
   "cell_type": "code",
   "execution_count": 6,
   "metadata": {},
   "outputs": [],
   "source": [
    "def get_target(n):\n",
    "    # Target qubit combination  \n",
    "    target = int(input('Enter the target number (from 0 to 15): '))\n",
    "#     max_n = 2**n\n",
    "#     target = np.random.randint(max_n)\n",
    "    print('Target number: ', target)\n",
    "\n",
    "    # Target Binary\n",
    "    target_binary = \"{0:04b}\".format(target)\n",
    "    print('Target binary: ', target_binary)\n",
    "    \n",
    "    return target, target_binary"
   ]
  },
  {
   "cell_type": "code",
   "execution_count": 7,
   "metadata": {},
   "outputs": [],
   "source": [
    "def main():\n",
    "    # Qubits\n",
    "    n = 4     # n = int(input('Enter number of required qubits: '))\n",
    "    print('Number of qubits: ', n)\n",
    "    \n",
    "    # Target\n",
    "    target, target_binary = get_target(n)\n",
    "    \n",
    "    # Initialize  \n",
    "    circuit = QuantumCircuit(n+1, n)    # Add one for ancillia qubit\n",
    "    initialize(circuit, n)  \n",
    "    \n",
    "    # Grover's Operator\n",
    "    grover_operator(circuit, n, target_binary)\n",
    "#     grover_operator(circuit, n, target_binary)\n",
    "#     grover_operator(circuit, n, target_binary)\n",
    "    \n",
    "    # End\n",
    "    circuit.barrier()\n",
    "    circuit.measure(range(n), range(n))\n",
    "    \n",
    "    # circuit.draw('mpl')\n",
    "    return circuit"
   ]
  },
  {
   "cell_type": "code",
   "execution_count": 8,
   "metadata": {},
   "outputs": [
    {
     "name": "stdout",
     "output_type": "stream",
     "text": [
      "Number of qubits:  4\n",
      "Enter the target number (from 0 to 15): 2\n",
      "Target number:  2\n",
      "Target binary:  0010\n"
     ]
    },
    {
     "data": {
      "image/png": "[encoded data removed]",
      "text/plain": [
       "<Figure size 1103.98x385.28 with 1 Axes>"
      ]
     },
     "execution_count": 8,
     "metadata": {},
     "output_type": "execute_result"
    }
   ],
   "source": [
    "circuit = main()\n",
    "circuit.draw('mpl')"
   ]
  },
  {
   "cell_type": "code",
   "execution_count": 9,
   "metadata": {},
   "outputs": [
    {
     "name": "stdout",
     "output_type": "stream",
     "text": [
      "{'0000': 41, '0001': 36, '0010': 502, '0011': 43, '0100': 25, '0101': 32, '0110': 32, '0111': 33, '1000': 33, '1001': 42, '1010': 40, '1011': 43, '1100': 25, '1101': 28, '1110': 35, '1111': 34}\n"
     ]
    },
    {
     "data": {
      "image/png": "[encoded data removed]",
      "text/plain": [
       "<Figure size 504x360 with 1 Axes>"
      ]
     },
     "execution_count": 9,
     "metadata": {},
     "output_type": "execute_result"
    }
   ],
   "source": [
    "backend = Aer.get_backend('qasm_simulator')\n",
    "results = execute(circuit, backend, shots = 1024).result()\n",
    "counts = results.get_counts()\n",
    "print(counts)\n",
    "plot_histogram(counts)"
   ]
  },
  {
   "cell_type": "code",
   "execution_count": 10,
   "metadata": {},
   "outputs": [
    {
     "name": "stderr",
     "output_type": "stream",
     "text": [
      "/home/saasha/anaconda3/lib/python3.7/site-packages/qiskit/providers/ibmq/ibmqfactory.py:192: UserWarning: Timestamps in IBMQ backend properties, jobs, and job results are all now in local time instead of UTC.\n",
      "  warnings.warn('Timestamps in IBMQ backend properties, jobs, and job results '\n"
     ]
    },
    {
     "name": "stdout",
     "output_type": "stream",
     "text": [
      "Job Status: job is queued (36)    "
     ]
    },
    {
     "ename": "KeyboardInterrupt",
     "evalue": "",
     "output_type": "error",
     "traceback": [
      "\u001b[0;31m---------------------------------------------------------------------------\u001b[0m",
      "\u001b[0;31mKeyboardInterrupt\u001b[0m                         Traceback (most recent call last)",
      "\u001b[0;32m<ipython-input-10-422d93f23d84>\u001b[0m in \u001b[0;36m<module>\u001b[0;34m\u001b[0m\n\u001b[1;32m      7\u001b[0m \u001b[0mqcomp\u001b[0m \u001b[0;34m=\u001b[0m \u001b[0mprovider\u001b[0m\u001b[0;34m.\u001b[0m\u001b[0mget_backend\u001b[0m\u001b[0;34m(\u001b[0m\u001b[0;34m'ibmq_santiago'\u001b[0m\u001b[0;34m)\u001b[0m\u001b[0;34m\u001b[0m\u001b[0;34m\u001b[0m\u001b[0m\n\u001b[1;32m      8\u001b[0m \u001b[0mjob\u001b[0m \u001b[0;34m=\u001b[0m \u001b[0mexecute\u001b[0m\u001b[0;34m(\u001b[0m\u001b[0mcircuit\u001b[0m\u001b[0;34m,\u001b[0m \u001b[0mqcomp\u001b[0m\u001b[0;34m,\u001b[0m \u001b[0mshots\u001b[0m \u001b[0;34m=\u001b[0m \u001b[0;36m1024\u001b[0m\u001b[0;34m)\u001b[0m\u001b[0;34m\u001b[0m\u001b[0;34m\u001b[0m\u001b[0m\n\u001b[0;32m----> 9\u001b[0;31m \u001b[0mjob_monitor\u001b[0m\u001b[0;34m(\u001b[0m\u001b[0mjob\u001b[0m\u001b[0;34m)\u001b[0m\u001b[0;34m\u001b[0m\u001b[0;34m\u001b[0m\u001b[0m\n\u001b[0m",
      "\u001b[0;32m~/anaconda3/lib/python3.7/site-packages/qiskit/tools/monitor/job_monitor.py\u001b[0m in \u001b[0;36mjob_monitor\u001b[0;34m(job, interval, quiet, output)\u001b[0m\n\u001b[1;32m     84\u001b[0m \u001b[0;34m\u001b[0m\u001b[0m\n\u001b[1;32m     85\u001b[0m     _text_checker(job, interval, _interval_set,\n\u001b[0;32m---> 86\u001b[0;31m                   quiet=quiet, output=output)\n\u001b[0m",
      "\u001b[0;32m~/anaconda3/lib/python3.7/site-packages/qiskit/tools/monitor/job_monitor.py\u001b[0m in \u001b[0;36m_text_checker\u001b[0;34m(job, interval, _interval_set, quiet, output)\u001b[0m\n\u001b[1;32m     40\u001b[0m         \u001b[0mprint\u001b[0m\u001b[0;34m(\u001b[0m\u001b[0;34m'\\r%s: %s'\u001b[0m \u001b[0;34m%\u001b[0m \u001b[0;34m(\u001b[0m\u001b[0;34m'Job Status'\u001b[0m\u001b[0;34m,\u001b[0m \u001b[0mmsg\u001b[0m\u001b[0;34m)\u001b[0m\u001b[0;34m,\u001b[0m \u001b[0mend\u001b[0m\u001b[0;34m=\u001b[0m\u001b[0;34m''\u001b[0m\u001b[0;34m,\u001b[0m \u001b[0mfile\u001b[0m\u001b[0;34m=\u001b[0m\u001b[0moutput\u001b[0m\u001b[0;34m)\u001b[0m\u001b[0;34m\u001b[0m\u001b[0;34m\u001b[0m\u001b[0m\n\u001b[1;32m     41\u001b[0m     \u001b[0;32mwhile\u001b[0m \u001b[0mstatus\u001b[0m\u001b[0;34m.\u001b[0m\u001b[0mname\u001b[0m \u001b[0;32mnot\u001b[0m \u001b[0;32min\u001b[0m \u001b[0;34m[\u001b[0m\u001b[0;34m'DONE'\u001b[0m\u001b[0;34m,\u001b[0m \u001b[0;34m'CANCELLED'\u001b[0m\u001b[0;34m,\u001b[0m \u001b[0;34m'ERROR'\u001b[0m\u001b[0;34m]\u001b[0m\u001b[0;34m:\u001b[0m\u001b[0;34m\u001b[0m\u001b[0;34m\u001b[0m\u001b[0m\n\u001b[0;32m---> 42\u001b[0;31m         \u001b[0mtime\u001b[0m\u001b[0;34m.\u001b[0m\u001b[0msleep\u001b[0m\u001b[0;34m(\u001b[0m\u001b[0minterval\u001b[0m\u001b[0;34m)\u001b[0m\u001b[0;34m\u001b[0m\u001b[0;34m\u001b[0m\u001b[0m\n\u001b[0m\u001b[1;32m     43\u001b[0m         \u001b[0mstatus\u001b[0m \u001b[0;34m=\u001b[0m \u001b[0mjob\u001b[0m\u001b[0;34m.\u001b[0m\u001b[0mstatus\u001b[0m\u001b[0;34m(\u001b[0m\u001b[0;34m)\u001b[0m\u001b[0;34m\u001b[0m\u001b[0;34m\u001b[0m\u001b[0m\n\u001b[1;32m     44\u001b[0m         \u001b[0mmsg\u001b[0m \u001b[0;34m=\u001b[0m \u001b[0mstatus\u001b[0m\u001b[0;34m.\u001b[0m\u001b[0mvalue\u001b[0m\u001b[0;34m\u001b[0m\u001b[0;34m\u001b[0m\u001b[0m\n",
      "\u001b[0;31mKeyboardInterrupt\u001b[0m: "
     ]
    }
   ],
   "source": [
    "### from qiskit.providers.ibmq import least_busy\n",
    "from qiskit import IBMQ\n",
    "from qiskit.tools.monitor import job_monitor\n",
    "\n",
    "provider = IBMQ.load_account()\n",
    "backend = provider.backends(simulator = False)\n",
    "qcomp = provider.get_backend('ibmq_santiago')\n",
    "job = execute(circuit, qcomp, shots = 1024)\n",
    "job_monitor(job)"
   ]
  },
  {
   "cell_type": "code",
   "execution_count": null,
   "metadata": {},
   "outputs": [],
   "source": [
    "result = job.result()\n",
    "counts = result.get_counts(circuit)\n",
    "print(counts)\n",
    "plot_histogram(counts)"
   ]
  },
  {
   "cell_type": "code",
   "execution_count": null,
   "metadata": {},
   "outputs": [],
   "source": [
    "time_steps = job.time_per_step()\n",
    "print(f'RUNNING: {time_steps[\"RUNNING\"]}')\n",
    "print(f'COMPLETED: {time_steps[\"COMPLETED\"]}')\n",
    "\n",
    "RUNTIME = time_steps[\"COMPLETED\"] - time_steps[\"RUNNING\"]\n",
    "print(f'RUNTIME: {RUNTIME.total_seconds()}')"
   ]
  },
  {
   "cell_type": "code",
   "execution_count": null,
   "metadata": {},
   "outputs": [],
   "source": []
  }
 ],
 "metadata": {
  "kernelspec": {
   "display_name": "Python 3",
   "language": "python",
   "name": "python3"
  },
  "language_info": {
   "codemirror_mode": {
    "name": "ipython",
    "version": 3
   },
   "file_extension": ".py",
   "mimetype": "text/x-python",
   "name": "python",
   "nbconvert_exporter": "python",
   "pygments_lexer": "ipython3",
   "version": "3.7.6"
  }
 },
 "nbformat": 4,
 "nbformat_minor": 2
}
