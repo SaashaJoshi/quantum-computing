{
 "cells": [
  {
   "cell_type": "code",
   "execution_count": 1,
   "metadata": {},
   "outputs": [],
   "source": [
    "from qiskit import *\n",
    "from qiskit.visualization import plot_histogram, plot_bloch_multivector, plot_state_qsphere\n",
    "import numpy as np"
   ]
  },
  {
   "cell_type": "code",
   "execution_count": 2,
   "metadata": {},
   "outputs": [],
   "source": [
    "def before_oracle(circuit, n):\n",
    "#   Ancilla qubit\n",
    "    circuit.x(n)\n",
    "    \n",
    "    for qbit in range(n+1):    # +1 for ancilla qubit\n",
    "        circuit.h(qbit)\n",
    "        \n",
    "    circuit.barrier()"
   ]
  },
  {
   "cell_type": "code",
   "execution_count": 25,
   "metadata": {},
   "outputs": [],
   "source": [
    "def oracle(case, n):    \n",
    "    circuit = QuantumCircuit(n+1)    # Do not add classical gates here. \n",
    "#   Gives the following error otherwise: 'Circuit with classical bits cannot be converted to gate.'    \n",
    "    \n",
    "    if case == 'constant' or 'c':\n",
    "        dice = np.random.randint(2)    # Choose random number for 1: Constant-0 and 2: Constant-1\n",
    "        if dice == 2:    # For dice == 1: Do nothing (Constant-0)\n",
    "            circuit.x(2)    # check here!!\n",
    "\n",
    "#     if case == 'balanced' or 'b':\n",
    "    \n",
    "    oracle_gate = circuit.to_gate()\n",
    "    oracle_gate.name = 'Oracle'\n",
    "        \n",
    "    return oracle_gate"
   ]
  },
  {
   "cell_type": "code",
   "execution_count": 26,
   "metadata": {},
   "outputs": [],
   "source": [
    "def after_oracle(circuit, n):\n",
    "    for qbit in range(n):\n",
    "        circuit.h(qbit)\n",
    "    circuit.barrier()"
   ]
  },
  {
   "cell_type": "code",
   "execution_count": 27,
   "metadata": {},
   "outputs": [],
   "source": [
    "def main(n):\n",
    "    qc = QuantumCircuit(n+1, n)    # n+1 for ancilla qubit\n",
    "    case = input('Choose the case: Constant or Balanced ')\n",
    "    \n",
    "#   Before Oracle\n",
    "    before_oracle(qc, n)\n",
    "    \n",
    "#   Oracale\n",
    "    oracle_gate = oracle(case, n)\n",
    "    qc.append(oracle_gate, range(n+1))\n",
    "    \n",
    "#   After Oracle\n",
    "    after_oracle(qc, n)\n",
    "    \n",
    "    qc.measure(range(n), range(n))\n",
    "    \n",
    "    display(qc.draw('mpl'))\n",
    "    \n",
    "    return qc"
   ]
  },
  {
   "cell_type": "code",
   "execution_count": 29,
   "metadata": {},
   "outputs": [
    {
     "name": "stdout",
     "output_type": "stream",
     "text": [
      "Enter the value of n: 5\n",
      "Choose the case: Constant or Balanced c\n"
     ]
    },
    {
     "data": {
      "image/png": "[encoded data removed]",
      "text/plain": [
       "<Figure size 900.592x445.48 with 1 Axes>"
      ]
     },
     "metadata": {},
     "output_type": "display_data"
    }
   ],
   "source": [
    "if __name__ == '__main__':\n",
    "    n = int(input('Enter the value of n: '))\n",
    "    circuit = main(n)"
   ]
  },
  {
   "cell_type": "code",
   "execution_count": null,
   "metadata": {},
   "outputs": [],
   "source": [
    "backend = Aer.get_backend('qasm_simulator')\n",
    "results = execute(circuit, backend, shots = 1024).result()\n",
    "counts = results.get_counts()\n",
    "print(counts)\n",
    "plot_histogram(counts)\n",
    "# Outputs 0 for constant function and 1 for balanced function"
   ]
  },
  {
   "cell_type": "code",
   "execution_count": null,
   "metadata": {},
   "outputs": [],
   "source": [
    "from qiskit.providers.ibmq import least_busy\n",
    "from qiskit import IBMQ\n",
    "from qiskit.tools.monitor import job_monitor\n",
    "\n",
    "provider = IBMQ.load_account()\n",
    "backend = provider.backends(simulator = False)\n",
    "qcomp = least_busy(backend)\n",
    "job = execute(circuit, qcomp)\n",
    "print('Using the least busy device: ', qcomp.name())\n",
    "job_monitor(job)"
   ]
  },
  {
   "cell_type": "code",
   "execution_count": null,
   "metadata": {},
   "outputs": [],
   "source": [
    "result = job.result()\n",
    "counts = result.get_counts(circuit)\n",
    "plot_histogram(counts)"
   ]
  }
 ],
 "metadata": {
  "kernelspec": {
   "display_name": "Python 3",
   "language": "python",
   "name": "python3"
  },
  "language_info": {
   "codemirror_mode": {
    "name": "ipython",
    "version": 3
   },
   "file_extension": ".py",
   "mimetype": "text/x-python",
   "name": "python",
   "nbconvert_exporter": "python",
   "pygments_lexer": "ipython3",
   "version": "3.7.6"
  }
 },
 "nbformat": 4,
 "nbformat_minor": 2
}
