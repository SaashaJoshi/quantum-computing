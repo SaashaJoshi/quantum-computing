{
 "cells": [
  {
   "cell_type": "code",
   "execution_count": 1,
   "id": "c6dde943-ba53-4739-a4b0-6224fa831ef5",
   "metadata": {},
   "outputs": [],
   "source": [
    "import numpy as np\n",
    "from qiskit.circuit import QuantumCircuit, QuantumRegister, ClassicalRegister, Parameter, ParameterVector"
   ]
  },
  {
   "cell_type": "code",
   "execution_count": 2,
   "id": "27e5d28a-7aa5-453c-8366-287042420836",
   "metadata": {},
   "outputs": [
    {
     "data": {
      "text/html": [
       "<pre style=\"word-wrap: normal;white-space: pre;background: #fff0;line-height: 1.1;font-family: &quot;Courier New&quot;,Courier,monospace\">     ┌───┐┌─────────────────────────────┐     \n",
       "q_0: ┤ H ├┤ Initialize(0.70711,0.70711) ├──■──\n",
       "     ├───┤└────────┬───────────┬────────┘┌─┴─┐\n",
       "q_1: ┤ H ├─────────┤ Ry(theta) ├─────────┤ X ├\n",
       "     └───┘         └───────────┘         └───┘\n",
       "c: 2/═════════════════════════════════════════\n",
       "                                              </pre>"
      ],
      "text/plain": [
       "     ┌───┐┌─────────────────────────────┐     \n",
       "q_0: ┤ H ├┤ Initialize(0.70711,0.70711) ├──■──\n",
       "     ├───┤└────────┬───────────┬────────┘┌─┴─┐\n",
       "q_1: ┤ H ├─────────┤ Ry(theta) ├─────────┤ X ├\n",
       "     └───┘         └───────────┘         └───┘\n",
       "c: 2/═════════════════════════════════════════\n",
       "                                              "
      ]
     },
     "execution_count": 2,
     "metadata": {},
     "output_type": "execute_result"
    }
   ],
   "source": [
    "circ = QuantumCircuit(2, 2)\n",
    "vector = [np.pi/2, np.pi/2]\n",
    "circ.h([0, 1])\n",
    "circ.initialize(vector, qubits=[0], normalize=True)\n",
    "theta = Parameter(\"theta\")\n",
    "circ.ry(theta, 1)\n",
    "circ.cx(0, 1)\n",
    "circ.draw()"
   ]
  },
  {
   "cell_type": "code",
   "execution_count": 3,
   "id": "5c2574fe-5c73-40ea-b7d4-00c4be33b46b",
   "metadata": {},
   "outputs": [
    {
     "data": {
      "text/html": [
       "<pre style=\"word-wrap: normal;white-space: pre;background: #fff0;line-height: 1.1;font-family: &quot;Courier New&quot;,Courier,monospace\">     ┌───┐┌─────────────────────────────┐     ┌─┐   \n",
       "q_0: ┤ H ├┤ Initialize(0.70711,0.70711) ├──■──┤M├───\n",
       "     ├───┤└────────┬───────────┬────────┘┌─┴─┐└╥┘┌─┐\n",
       "q_1: ┤ H ├─────────┤ Ry(theta) ├─────────┤ X ├─╫─┤M├\n",
       "     └───┘         └───────────┘         └───┘ ║ └╥┘\n",
       "c: 2/══════════════════════════════════════════╩══╩═\n",
       "                                               0  1 </pre>"
      ],
      "text/plain": [
       "     ┌───┐┌─────────────────────────────┐     ┌─┐   \n",
       "q_0: ┤ H ├┤ Initialize(0.70711,0.70711) ├──■──┤M├───\n",
       "     ├───┤└────────┬───────────┬────────┘┌─┴─┐└╥┘┌─┐\n",
       "q_1: ┤ H ├─────────┤ Ry(theta) ├─────────┤ X ├─╫─┤M├\n",
       "     └───┘         └───────────┘         └───┘ ║ └╥┘\n",
       "c: 2/══════════════════════════════════════════╩══╩═\n",
       "                                               0  1 "
      ]
     },
     "execution_count": 3,
     "metadata": {},
     "output_type": "execute_result"
    }
   ],
   "source": [
    "meas = QuantumCircuit(2, 2)\n",
    "meas.measure(range(2), range(2))\n",
    "# meas.draw()\n",
    "sampler_circ = circ.compose(meas, qubits=[0, 1], clbits=[0, 1], inplace=False)\n",
    "sampler_circ.draw()"
   ]
  },
  {
   "cell_type": "code",
   "execution_count": 32,
   "id": "29539298-0c2e-4288-ac51-9202ecd45b5e",
   "metadata": {},
   "outputs": [
    {
     "data": {
      "text/html": [
       "<pre style=\"word-wrap: normal;white-space: pre;background: #fff0;line-height: 1.1;font-family: &quot;Courier New&quot;,Courier,monospace\">     ┌───┐                  \n",
       "q_0: ┤ H ├───────────────■──\n",
       "     ├───┤┌───────────┐┌─┴─┐\n",
       "q_1: ┤ H ├┤ Ry(theta) ├┤ X ├\n",
       "     └───┘└───────────┘└───┘\n",
       "c: 2/═══════════════════════\n",
       "                            </pre>"
      ],
      "text/plain": [
       "     ┌───┐                  \n",
       "q_0: ┤ H ├───────────────■──\n",
       "     ├───┤┌───────────┐┌─┴─┐\n",
       "q_1: ┤ H ├┤ Ry(theta) ├┤ X ├\n",
       "     └───┘└───────────┘└───┘\n",
       "c: 2/═══════════════════════\n",
       "                            "
      ]
     },
     "execution_count": 32,
     "metadata": {},
     "output_type": "execute_result"
    }
   ],
   "source": [
    "# Simple circuit\n",
    "simple_circ = QuantumCircuit(2, 2)\n",
    "simple_circ.h([0, 1])\n",
    "theta = Parameter(\"theta\")\n",
    "simple_circ.ry(theta, 1)\n",
    "simple_circ.cx(0, 1)\n",
    "simple_circ.draw()"
   ]
  },
  {
   "cell_type": "code",
   "execution_count": 34,
   "id": "3af8f27c-3dac-493a-b057-585edcc40459",
   "metadata": {},
   "outputs": [
    {
     "data": {
      "text/html": [
       "<pre style=\"word-wrap: normal;white-space: pre;background: #fff0;line-height: 1.1;font-family: &quot;Courier New&quot;,Courier,monospace\">     ┌───┐                  ┌─┐   \n",
       "q_0: ┤ H ├───────────────■──┤M├───\n",
       "     ├───┤┌───────────┐┌─┴─┐└╥┘┌─┐\n",
       "q_1: ┤ H ├┤ Ry(theta) ├┤ X ├─╫─┤M├\n",
       "     └───┘└───────────┘└───┘ ║ └╥┘\n",
       "c: 2/════════════════════════╩══╩═\n",
       "                             0  1 </pre>"
      ],
      "text/plain": [
       "     ┌───┐                  ┌─┐   \n",
       "q_0: ┤ H ├───────────────■──┤M├───\n",
       "     ├───┤┌───────────┐┌─┴─┐└╥┘┌─┐\n",
       "q_1: ┤ H ├┤ Ry(theta) ├┤ X ├─╫─┤M├\n",
       "     └───┘└───────────┘└───┘ ║ └╥┘\n",
       "c: 2/════════════════════════╩══╩═\n",
       "                             0  1 "
      ]
     },
     "execution_count": 34,
     "metadata": {},
     "output_type": "execute_result"
    }
   ],
   "source": [
    "sampler_simple_circ = simple_circ.compose(meas, qubits=[0, 1], clbits=[0, 1], inplace=False)\n",
    "sampler_simple_circ.draw()"
   ]
  },
  {
   "cell_type": "code",
   "execution_count": 84,
   "id": "028d6132-4202-46a1-8c5e-d644b2f725bc",
   "metadata": {},
   "outputs": [],
   "source": [
    "# IBM Provider\n",
    "from qiskit_ibm_provider import IBMProvider\n",
    "\n",
    "# Fake backend\n",
    "from qiskit.providers.fake_provider import FakeMumbaiV2"
   ]
  },
  {
   "cell_type": "code",
   "execution_count": 85,
   "id": "87d8f2bf-4bc3-468d-b771-db36a945b63d",
   "metadata": {},
   "outputs": [],
   "source": [
    "provider = IBMProvider()\n",
    "# provider.backends()\n",
    "backend = provider.get_backend(\"ibmq_qasm_simulator\")\n",
    "fake_backend = FakeMumbaiV2()"
   ]
  },
  {
   "cell_type": "code",
   "execution_count": 91,
   "id": "62cec2c4-a909-4d9b-bb54-549f3e6517c1",
   "metadata": {},
   "outputs": [],
   "source": [
    "# Transpilation\n",
    "from qiskit import transpile\n",
    "\n",
    "# transpiled_circ = transpile(sampler_simple_circ, backend)\n",
    "transpiled_circ = transpile(sampler_simple_circ, fake_backend)\n",
    "transpiled_circ.assign_parameters({theta: np.pi/2}, inplace=True)\n",
    "# transpiled_circ.draw()"
   ]
  },
  {
   "cell_type": "code",
   "execution_count": 101,
   "id": "0b782c25-71e1-4783-8cb9-731565da1b0b",
   "metadata": {},
   "outputs": [
    {
     "name": "stdout",
     "output_type": "stream",
     "text": [
      "{'01': 1983, '10': 2017} {'01': 468, '11': 26, '00': 35, '10': 495}\n"
     ]
    }
   ],
   "source": [
    "# Ideal\n",
    "job = backend.run(transpiled_circ)\n",
    "# Noisy \n",
    "noisy_job = fake_backend.run(transpiled_circ)\n",
    "\n",
    "result = job.result()\n",
    "noisy_result = noisy_job.result()\n",
    "\n",
    "counts = result.get_counts()\n",
    "noisy_counts = noisy_result.get_counts()\n",
    "print(counts, noisy_counts)"
   ]
  },
  {
   "cell_type": "code",
   "execution_count": 102,
   "id": "aab9c49d-d512-414a-b831-570e1bdf7ff5",
   "metadata": {},
   "outputs": [
    {
     "data": {
      "image/png": "[encoded data removed]",
      "text/plain": [
       "<Figure size 640x480 with 1 Axes>"
      ]
     },
     "metadata": {},
     "output_type": "display_data"
    }
   ],
   "source": [
    "import matplotlib.pyplot as plt\n",
    "\n",
    "# Compare Results\n",
    "x = range(4)\n",
    "\n",
    "# Ideal\n",
    "for index, (k, v) in enumerate(counts.items()):\n",
    "    plt.bar(x[index] + 0, v*1000, color=\"lightblue\", width=0.25)\n",
    "\n",
    "# Noisy\n",
    "for index, (k, v) in enumerate(noisy_counts.items()):\n",
    "    plt.bar(x[index] + 0.25, v*1000, color=\"orange\", width=0.25)\n",
    "\n",
    "# # Mitigated\n",
    "# for k, v in mitigated_quasi_dists[0].items():\n",
    "#     plt.bar(x[k] + 0.5, v*1000, color=\"pink\", width=0.25)\n",
    "\n",
    "plt.show()"
   ]
  },
  {
   "cell_type": "code",
   "execution_count": 103,
   "id": "5d876235-870c-44ac-b18c-1e781382d5ce",
   "metadata": {},
   "outputs": [],
   "source": [
    "# Primitives\n",
    "from qiskit.primitives import Sampler, Estimator, BackendSampler, BackendEstimator"
   ]
  },
  {
   "cell_type": "code",
   "execution_count": 110,
   "id": "798ce4c5-fdbd-469c-b0a5-0cfe16486482",
   "metadata": {},
   "outputs": [],
   "source": [
    "# Observables\n",
    "from qiskit.quantum_info import SparsePauliOp\n",
    "\n",
    "observables = SparsePauliOp([\"ZZ\"])"
   ]
  },
  {
   "cell_type": "code",
   "execution_count": 105,
   "id": "b15c9061-7a02-401b-8778-6558a808772a",
   "metadata": {},
   "outputs": [
    {
     "name": "stdout",
     "output_type": "stream",
     "text": [
      "SamplerResult(quasi_dists=[{1: 0.487, 2: 0.513}], metadata=[{'shots': 1000}])\n"
     ]
    }
   ],
   "source": [
    "# Sampler\n",
    "sampler = Sampler()\n",
    "job = sampler.run(sampler_circ, parameter_values=[np.pi/2], shots=1000)\n",
    "results = job.result()\n",
    "print(results)"
   ]
  },
  {
   "cell_type": "code",
   "execution_count": 115,
   "id": "fec4b19c-1ca5-4f4e-b174-b562771fe1ae",
   "metadata": {},
   "outputs": [
    {
     "name": "stdout",
     "output_type": "stream",
     "text": [
      "SamplerResult(quasi_dists=[{0: 0.033, 3: 0.024, 2: 0.461, 1: 0.482}], metadata=[{'shots': 1000}])\n"
     ]
    }
   ],
   "source": [
    "# BackendSampler\n",
    "# Very basic, cannot handle initialize circuit instruction.\n",
    "backend_sampler = BackendSampler(backend=fake_backend)\n",
    "job = backend_sampler.run(sampler_simple_circ, parameter_values=[np.pi/2], shots=1000)\n",
    "results = job.result()\n",
    "print(results)"
   ]
  },
  {
   "cell_type": "code",
   "execution_count": 111,
   "id": "3707ea06-f822-41d6-aa00-831c4c93b6ea",
   "metadata": {},
   "outputs": [
    {
     "name": "stdout",
     "output_type": "stream",
     "text": [
      "EstimatorResult(values=array([-1.]), metadata=[{'variance': 3.3306690738754696e-16, 'shots': 1000}])\n"
     ]
    }
   ],
   "source": [
    "# Estimator\n",
    "estimator = Estimator()\n",
    "job = estimator.run(circ, parameter_values=[np.pi/2], observables=observables, shots=1000)\n",
    "results = job.result()\n",
    "print(results)"
   ]
  },
  {
   "cell_type": "code",
   "execution_count": 114,
   "id": "71bb4fd7-a229-46f0-9d27-0f774cad6460",
   "metadata": {},
   "outputs": [
    {
     "name": "stdout",
     "output_type": "stream",
     "text": [
      "EstimatorResult(values=array([-1.]), metadata=[{'variance': 0.0, 'shots': 1000}])\n"
     ]
    }
   ],
   "source": [
    "# BackendEstimator\n",
    "# Again, very basic, cannot handle initialize circuit instruction\n",
    "backend_estimator = BackendEstimator(backend=backend)\n",
    "job = backend_estimator.run(simple_circ, parameter_values=[np.pi/2], observables=observables, shots=1000)\n",
    "results = job.result()\n",
    "print(results)"
   ]
  },
  {
   "cell_type": "code",
   "execution_count": null,
   "id": "d4f90c90-d536-47c9-84d1-f35c6b456ee6",
   "metadata": {},
   "outputs": [],
   "source": [
    "# Noise Models and Error mitigation\n"
   ]
  }
 ],
 "metadata": {
  "kernelspec": {
   "display_name": "Python 3 (ipykernel)",
   "language": "python",
   "name": "python3"
  },
  "language_info": {
   "codemirror_mode": {
    "name": "ipython",
    "version": 3
   },
   "file_extension": ".py",
   "mimetype": "text/x-python",
   "name": "python",
   "nbconvert_exporter": "python",
   "pygments_lexer": "ipython3",
   "version": "3.8.18"
  }
 },
 "nbformat": 4,
 "nbformat_minor": 5
}
