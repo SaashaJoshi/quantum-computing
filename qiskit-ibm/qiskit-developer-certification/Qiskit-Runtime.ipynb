{
 "cells": [
  {
   "cell_type": "code",
   "execution_count": 1,
   "id": "d265148a-928d-43d0-aaa9-acc08229e5cb",
   "metadata": {},
   "outputs": [],
   "source": [
    "import numpy as np\n",
    "from qiskit.circuit import QuantumCircuit, QuantumRegister, ClassicalRegister, Parameter, ParameterVector"
   ]
  },
  {
   "cell_type": "code",
   "execution_count": 2,
   "id": "0a988294-02cd-4e18-bd83-c5f83ab30f2d",
   "metadata": {},
   "outputs": [
    {
     "data": {
      "text/html": [
       "<pre style=\"word-wrap: normal;white-space: pre;background: #fff0;line-height: 1.1;font-family: &quot;Courier New&quot;,Courier,monospace\">     ┌───┐┌─────────────────────────────┐     \n",
       "q_0: ┤ H ├┤ Initialize(0.70711,0.70711) ├──■──\n",
       "     ├───┤└────────┬───────────┬────────┘┌─┴─┐\n",
       "q_1: ┤ H ├─────────┤ Ry(theta) ├─────────┤ X ├\n",
       "     └───┘         └───────────┘         └───┘\n",
       "c: 2/═════════════════════════════════════════\n",
       "                                              </pre>"
      ],
      "text/plain": [
       "     ┌───┐┌─────────────────────────────┐     \n",
       "q_0: ┤ H ├┤ Initialize(0.70711,0.70711) ├──■──\n",
       "     ├───┤└────────┬───────────┬────────┘┌─┴─┐\n",
       "q_1: ┤ H ├─────────┤ Ry(theta) ├─────────┤ X ├\n",
       "     └───┘         └───────────┘         └───┘\n",
       "c: 2/═════════════════════════════════════════\n",
       "                                              "
      ]
     },
     "execution_count": 2,
     "metadata": {},
     "output_type": "execute_result"
    }
   ],
   "source": [
    "circ = QuantumCircuit(2, 2)\n",
    "vector = [np.pi/2, np.pi/2]\n",
    "circ.h([0, 1])\n",
    "circ.initialize(vector, qubits=[0], normalize=True)\n",
    "theta = Parameter(\"theta\")\n",
    "circ.ry(theta, 1)\n",
    "circ.cx(0, 1)\n",
    "circ.draw()"
   ]
  },
  {
   "cell_type": "code",
   "execution_count": 3,
   "id": "529e8bbf-62d9-409a-94e3-a9d319928db7",
   "metadata": {},
   "outputs": [
    {
     "data": {
      "text/html": [
       "<pre style=\"word-wrap: normal;white-space: pre;background: #fff0;line-height: 1.1;font-family: &quot;Courier New&quot;,Courier,monospace\">     ┌───┐┌─────────────────────────────┐     ┌─┐   \n",
       "q_0: ┤ H ├┤ Initialize(0.70711,0.70711) ├──■──┤M├───\n",
       "     ├───┤└────────┬───────────┬────────┘┌─┴─┐└╥┘┌─┐\n",
       "q_1: ┤ H ├─────────┤ Ry(theta) ├─────────┤ X ├─╫─┤M├\n",
       "     └───┘         └───────────┘         └───┘ ║ └╥┘\n",
       "c: 2/══════════════════════════════════════════╩══╩═\n",
       "                                               0  1 </pre>"
      ],
      "text/plain": [
       "     ┌───┐┌─────────────────────────────┐     ┌─┐   \n",
       "q_0: ┤ H ├┤ Initialize(0.70711,0.70711) ├──■──┤M├───\n",
       "     ├───┤└────────┬───────────┬────────┘┌─┴─┐└╥┘┌─┐\n",
       "q_1: ┤ H ├─────────┤ Ry(theta) ├─────────┤ X ├─╫─┤M├\n",
       "     └───┘         └───────────┘         └───┘ ║ └╥┘\n",
       "c: 2/══════════════════════════════════════════╩══╩═\n",
       "                                               0  1 "
      ]
     },
     "execution_count": 3,
     "metadata": {},
     "output_type": "execute_result"
    }
   ],
   "source": [
    "meas = QuantumCircuit(2, 2)\n",
    "meas.measure(range(2), range(2))\n",
    "# meas.draw()\n",
    "sampler_circ = circ.compose(meas, qubits=[0, 1], clbits=[0, 1], inplace=False)\n",
    "sampler_circ.draw()"
   ]
  },
  {
   "cell_type": "code",
   "execution_count": 4,
   "id": "d87e8a97-7d9c-48e2-a9ba-ddcfe54cf9a3",
   "metadata": {},
   "outputs": [],
   "source": [
    "# Runtime\n",
    "from qiskit_ibm_runtime import QiskitRuntimeService, Sampler, Estimator, Session, Options\n",
    "from qiskit.quantum_info import SparsePauliOp"
   ]
  },
  {
   "cell_type": "code",
   "execution_count": 31,
   "id": "b4e0f41b-ccd4-4a46-936a-4c6a02768b63",
   "metadata": {},
   "outputs": [],
   "source": [
    "# Initialize Runtime \n",
    "service = QiskitRuntimeService()"
   ]
  },
  {
   "cell_type": "code",
   "execution_count": 32,
   "id": "3fcbd719-b7ef-4377-9cbe-3836ceb118b1",
   "metadata": {},
   "outputs": [],
   "source": [
    "# Runtime Backend\n",
    "# service.backends()\n",
    "# service.least_busy(instance=\"hub/group/project\", simulator=True)\n",
    "backend = service.backend(\"ibmq_qasm_simulator\")"
   ]
  },
  {
   "cell_type": "code",
   "execution_count": 7,
   "id": "49ecaabb-c4f4-46b3-a3f9-d7ce6c5fd16b",
   "metadata": {},
   "outputs": [],
   "source": [
    "# Options\n",
    "# options = Options(optimization_level=3, resilience_level=0, transpilation={\"initial_layout\": [2, 3]})\n",
    "options = Options(optimization_level=0, resilience_level=0)"
   ]
  },
  {
   "cell_type": "code",
   "execution_count": 8,
   "id": "af61d8f3-8c59-4a48-b884-2f1887dc5020",
   "metadata": {},
   "outputs": [
    {
     "name": "stdout",
     "output_type": "stream",
     "text": [
      "JobStatus.RUNNING\n",
      "SamplerResult(quasi_dists=[{2: 0.497, 1: 0.503}], metadata=[{'shots': 1000, 'circuit_metadata': {}}])\n"
     ]
    }
   ],
   "source": [
    "# Sampler Session\n",
    "with Session(service=service, backend=backend) as session:\n",
    "    sampler = Sampler(session=session, options=options)\n",
    "    job = sampler.run(sampler_circ, parameter_values=[np.pi/2], shots=1000)\n",
    "    print(job.status())\n",
    "    sampler_result = job.result()\n",
    "    print(sampler_result)"
   ]
  },
  {
   "cell_type": "code",
   "execution_count": 9,
   "id": "c40f1743-a970-4fae-aed4-d5b453306e21",
   "metadata": {},
   "outputs": [
    {
     "data": {
      "text/plain": [
       "[{2: 0.497, 1: 0.503}]"
      ]
     },
     "execution_count": 9,
     "metadata": {},
     "output_type": "execute_result"
    }
   ],
   "source": [
    "quasi_dists = sampler_result.quasi_dists\n",
    "quasi_dists"
   ]
  },
  {
   "cell_type": "code",
   "execution_count": 10,
   "id": "3f99743f-e8f9-4c4c-bec7-5234c6c056dc",
   "metadata": {},
   "outputs": [],
   "source": [
    "# Noise\n",
    "# Import noisy backend\n",
    "from qiskit_ibm_runtime.fake_provider import FakeMumbaiV2\n",
    "from qiskit_aer.noise import NoiseModel"
   ]
  },
  {
   "cell_type": "code",
   "execution_count": 11,
   "id": "9076ec25-12ca-45e2-af4e-f7fa92794d35",
   "metadata": {},
   "outputs": [
    {
     "data": {
      "text/plain": [
       "<NoiseModel on ['x', 'id', 'measure', 'sx', 'cx', 'reset']>"
      ]
     },
     "execution_count": 11,
     "metadata": {},
     "output_type": "execute_result"
    }
   ],
   "source": [
    "fake_backend = FakeMumbaiV2()\n",
    "noise_model = NoiseModel.from_backend(fake_backend)\n",
    "noise_model"
   ]
  },
  {
   "cell_type": "code",
   "execution_count": 19,
   "id": "cec1274d-c145-4082-9a5a-9cea6936bdc7",
   "metadata": {},
   "outputs": [
    {
     "name": "stdout",
     "output_type": "stream",
     "text": [
      "JobStatus.RUNNING\n",
      "SamplerResult(quasi_dists=[{3: 0.033, 0: 0.034, 2: 0.483, 1: 0.45}], metadata=[{'shots': 1000, 'circuit_metadata': {}}])\n"
     ]
    }
   ],
   "source": [
    "# Sampler session\n",
    "noise_options = Options(simulator={\"noise_model\": noise_model, \"seed_simulator\": 100}, resilience_level=0, optimization_level=0)\n",
    "with Session(service=service, backend=backend) as session:\n",
    "    sampler = Sampler(session=session, options=noise_options)\n",
    "    job = sampler.run(sampler_circ, parameter_values=[np.pi/2], shots=1000)\n",
    "    print(job.status())\n",
    "    noise_results = job.result()\n",
    "    print(noise_results)"
   ]
  },
  {
   "cell_type": "code",
   "execution_count": 20,
   "id": "589b6a13-1062-4f6e-944b-41bd196893cb",
   "metadata": {},
   "outputs": [
    {
     "data": {
      "text/plain": [
       "[{3: 0.033, 0: 0.034, 2: 0.483, 1: 0.45}]"
      ]
     },
     "execution_count": 20,
     "metadata": {},
     "output_type": "execute_result"
    }
   ],
   "source": [
    "noisy_quasi_dists = noise_results.quasi_dists\n",
    "noisy_quasi_dists"
   ]
  },
  {
   "cell_type": "code",
   "execution_count": 16,
   "id": "9d0a45f7-a69a-4e40-9041-33d9ec446526",
   "metadata": {},
   "outputs": [
    {
     "name": "stdout",
     "output_type": "stream",
     "text": [
      "JobStatus.RUNNING\n",
      "SamplerResult(quasi_dists=[{0: 0.015477368388232, 1: 0.468506469659005, 2: 0.50218590203101, 3: 0.013830259921754}], metadata=[{'shots': 1000, 'circuit_metadata': {}, 'readout_mitigation_overhead': 1.1851166427494901, 'readout_mitigation_time': 0.014904782176017761}])\n"
     ]
    }
   ],
   "source": [
    "# Error Mitigation\n",
    "mitigation_options = Options(simulator={\"noise_model\": noise_model, \"seed_simulator\": 100}, resilience_level=1, optimization_level=0)\n",
    "with Session(service=service, backend=backend) as session:\n",
    "    sampler = Sampler(session=session, options=mitigation_options)\n",
    "    job = sampler.run(sampler_circ, parameter_values=[np.pi/2], shots=1000)\n",
    "    print(job.status())\n",
    "    mitigated_results = job.result()\n",
    "    print(mitigated_results)"
   ]
  },
  {
   "cell_type": "code",
   "execution_count": 17,
   "id": "a18e70db-8f21-4979-8aec-d3d2e1a07559",
   "metadata": {},
   "outputs": [
    {
     "data": {
      "text/plain": [
       "[{0: 0.015477368388232, 1: 0.468506469659005, 2: 0.50218590203101, 3: 0.013830259921754}]"
      ]
     },
     "execution_count": 17,
     "metadata": {},
     "output_type": "execute_result"
    }
   ],
   "source": [
    "mitigated_quasi_dists = mitigated_results.quasi_dists\n",
    "mitigated_quasi_dists"
   ]
  },
  {
   "cell_type": "code",
   "execution_count": 21,
   "id": "2e085b9d-171e-44d8-9e87-75f53fcd9fcd",
   "metadata": {},
   "outputs": [
    {
     "data": {
      "image/png": "[encoded data removed]",
      "text/plain": [
       "<Figure size 640x480 with 1 Axes>"
      ]
     },
     "metadata": {},
     "output_type": "display_data"
    }
   ],
   "source": [
    "import matplotlib.pyplot as plt\n",
    "\n",
    "# Compare Results\n",
    "x = range(4)\n",
    "\n",
    "# Ideal\n",
    "for k, v in quasi_dists[0].items():\n",
    "    plt.bar(x[k] + 0, v*1000, color=\"lightblue\", width=0.25)\n",
    "\n",
    "# Noisy\n",
    "for k, v in noisy_quasi_dists[0].items():\n",
    "    plt.bar(x[k] + 0.25, v*1000, color=\"orange\", width=0.25)\n",
    "\n",
    "# Mitigated\n",
    "for k, v in mitigated_quasi_dists[0].items():\n",
    "    plt.bar(x[k] + 0.5, v*1000, color=\"pink\", width=0.25)\n",
    "\n",
    "plt.show()"
   ]
  },
  {
   "cell_type": "code",
   "execution_count": 38,
   "id": "34ee6297-90ae-447d-b50a-df481d4b199e",
   "metadata": {},
   "outputs": [
    {
     "data": {
      "image/png": "[encoded data removed]",
      "text/plain": [
       "<Figure size 700x500 with 1 Axes>"
      ]
     },
     "execution_count": 38,
     "metadata": {},
     "output_type": "execute_result"
    }
   ],
   "source": [
    "from qiskit.visualization import plot_distribution\n",
    "\n",
    "plot_distribution([quasi_dists[0], noisy_quasi_dists[0], mitigated_quasi_dists[0]], legend=[\"ideal\", \"noisy\", \"mitigated\"], color=[\"lightblue\", \"orange\", \"pink\"])"
   ]
  },
  {
   "cell_type": "code",
   "execution_count": null,
   "id": "c6366e30-b81d-4f30-94a3-a39905ddef37",
   "metadata": {},
   "outputs": [],
   "source": []
  },
  {
   "cell_type": "code",
   "execution_count": 23,
   "id": "e675f74d-cd73-4520-be1c-9fdd20e251aa",
   "metadata": {},
   "outputs": [],
   "source": [
    "# Observables\n",
    "observables = SparsePauliOp([\"ZZ\"])"
   ]
  },
  {
   "cell_type": "code",
   "execution_count": 33,
   "id": "d1188a5d-1e2e-48c1-9d3c-928f995046c5",
   "metadata": {},
   "outputs": [
    {
     "name": "stdout",
     "output_type": "stream",
     "text": [
      "EstimatorResult(values=array([-1.]), metadata=[{'variance': 0.0, 'shots': 1000}])\n"
     ]
    }
   ],
   "source": [
    "# Estimator\n",
    "with Session(service=service, backend=backend) as session:\n",
    "    estimator = Estimator(session=session, options=options)\n",
    "    job = estimator.run(circ, observables=observables, parameter_values=[np.pi/2], shots=1000)\n",
    "    estimator_results = job.result()\n",
    "    print(estimator_results)"
   ]
  },
  {
   "cell_type": "code",
   "execution_count": 36,
   "id": "075e47ea-578c-4606-a4a5-7ce84bf6e047",
   "metadata": {},
   "outputs": [
    {
     "data": {
      "text/plain": [
       "array([-1.])"
      ]
     },
     "execution_count": 36,
     "metadata": {},
     "output_type": "execute_result"
    }
   ],
   "source": [
    "# Expectation Value\n",
    "estimator_values = estimator_results.values\n",
    "estimator_values"
   ]
  },
  {
   "cell_type": "code",
   "execution_count": null,
   "id": "ce808a04-522e-405b-96cd-03e553bf1a22",
   "metadata": {},
   "outputs": [],
   "source": []
  }
 ],
 "metadata": {
  "kernelspec": {
   "display_name": "Python 3 (ipykernel)",
   "language": "python",
   "name": "python3"
  },
  "language_info": {
   "codemirror_mode": {
    "name": "ipython",
    "version": 3
   },
   "file_extension": ".py",
   "mimetype": "text/x-python",
   "name": "python",
   "nbconvert_exporter": "python",
   "pygments_lexer": "ipython3",
   "version": "3.8.18"
  }
 },
 "nbformat": 4,
 "nbformat_minor": 5
}
