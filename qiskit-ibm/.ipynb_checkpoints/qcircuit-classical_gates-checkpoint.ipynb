{
 "cells": [
  {
   "cell_type": "code",
   "execution_count": 2,
   "metadata": {},
   "outputs": [],
   "source": [
    "from qiskit import *"
   ]
  },
  {
   "cell_type": "markdown",
   "metadata": {},
   "source": [
    "## NOT Gate"
   ]
  },
  {
   "cell_type": "code",
   "execution_count": 4,
   "metadata": {},
   "outputs": [
    {
     "data": {
      "text/html": [
       "<pre style=\"word-wrap: normal;white-space: pre;background: #fff0;line-height: 1.1;font-family: &quot;Courier New&quot;,Courier,monospace\">      ┌───┐┌─┐\n",
       "q0_0: ┤ X ├┤M├\n",
       "      └───┘└╥┘\n",
       "c0: 1/══════╩═\n",
       "            0 </pre>"
      ],
      "text/plain": [
       "      ┌───┐┌─┐\n",
       "q0_0: ┤ X ├┤M├\n",
       "      └───┘└╥┘\n",
       "c0: 1/══════╩═\n",
       "            0 "
      ]
     },
     "execution_count": 4,
     "metadata": {},
     "output_type": "execute_result"
    }
   ],
   "source": [
    "# NOT gate = X gate\n",
    "q = QuantumRegister(1)\n",
    "c = ClassicalRegister(1)\n",
    "qc = QuantumCircuit(q, c)\n",
    "qc.x(q)\n",
    "qc.measure(q, c)\n",
    "qc.draw()"
   ]
  },
  {
   "cell_type": "markdown",
   "metadata": {},
   "source": [
    "## AND Gate"
   ]
  },
  {
   "cell_type": "code",
   "execution_count": 9,
   "metadata": {},
   "outputs": [
    {
     "data": {
      "text/html": [
       "<pre style=\"word-wrap: normal;white-space: pre;background: #fff0;line-height: 1.1;font-family: &quot;Courier New&quot;,Courier,monospace\">              ░ ┌─┐      \n",
       "   q_0: ──■───░─┤M├──────\n",
       "          │   ░ └╥┘┌─┐   \n",
       "   q_1: ──■───░──╫─┤M├───\n",
       "        ┌─┴─┐ ░  ║ └╥┘┌─┐\n",
       "   q_2: ┤ X ├─░──╫──╫─┤M├\n",
       "        └───┘ ░  ║  ║ └╥┘\n",
       "meas: 3/═════════╩══╩══╩═\n",
       "                 0  1  2 </pre>"
      ],
      "text/plain": [
       "              ░ ┌─┐      \n",
       "   q_0: ──■───░─┤M├──────\n",
       "          │   ░ └╥┘┌─┐   \n",
       "   q_1: ──■───░──╫─┤M├───\n",
       "        ┌─┴─┐ ░  ║ └╥┘┌─┐\n",
       "   q_2: ┤ X ├─░──╫──╫─┤M├\n",
       "        └───┘ ░  ║  ║ └╥┘\n",
       "meas: 3/═════════╩══╩══╩═\n",
       "                 0  1  2 "
      ]
     },
     "execution_count": 9,
     "metadata": {},
     "output_type": "execute_result"
    }
   ],
   "source": [
    "# AND gate = CCX gate\n",
    "qc = QuantumCircuit(3)\n",
    "qc.ccx(0, 1, 2)\n",
    "qc.measure_all()\n",
    "qc.draw()"
   ]
  },
  {
   "cell_type": "markdown",
   "metadata": {},
   "source": [
    "## OR Gate"
   ]
  },
  {
   "cell_type": "code",
   "execution_count": 12,
   "metadata": {},
   "outputs": [
    {
     "data": {
      "text/html": [
       "<pre style=\"word-wrap: normal;white-space: pre;background: #fff0;line-height: 1.1;font-family: &quot;Courier New&quot;,Courier,monospace\">                        ░ ┌─┐      \n",
       "   q_0: ──■─────────■───░─┤M├──────\n",
       "          │         │   ░ └╥┘┌─┐   \n",
       "   q_1: ──┼────■────■───░──╫─┤M├───\n",
       "        ┌─┴─┐┌─┴─┐┌─┴─┐ ░  ║ └╥┘┌─┐\n",
       "   q_2: ┤ X ├┤ X ├┤ X ├─░──╫──╫─┤M├\n",
       "        └───┘└───┘└───┘ ░  ║  ║ └╥┘\n",
       "meas: 3/═══════════════════╩══╩══╩═\n",
       "                           0  1  2 </pre>"
      ],
      "text/plain": [
       "                        ░ ┌─┐      \n",
       "   q_0: ──■─────────■───░─┤M├──────\n",
       "          │         │   ░ └╥┘┌─┐   \n",
       "   q_1: ──┼────■────■───░──╫─┤M├───\n",
       "        ┌─┴─┐┌─┴─┐┌─┴─┐ ░  ║ └╥┘┌─┐\n",
       "   q_2: ┤ X ├┤ X ├┤ X ├─░──╫──╫─┤M├\n",
       "        └───┘└───┘└───┘ ░  ║  ║ └╥┘\n",
       "meas: 3/═══════════════════╩══╩══╩═\n",
       "                           0  1  2 "
      ]
     },
     "execution_count": 12,
     "metadata": {},
     "output_type": "execute_result"
    }
   ],
   "source": [
    "# OR gate = CX (to check first qubit) + CX (to check second qubit)  + CCX (to check both qubits together)\n",
    "qc = QuantumCircuit(3)\n",
    "qc.cx(0, 2)\n",
    "qc.cx(1, 2)\n",
    "qc.ccx(0, 1, 2)\n",
    "qc.measure_all()\n",
    "qc.draw()"
   ]
  },
  {
   "cell_type": "markdown",
   "metadata": {},
   "source": [
    "## XOR Gate"
   ]
  },
  {
   "cell_type": "code",
   "execution_count": 14,
   "metadata": {},
   "outputs": [
    {
     "data": {
      "text/html": [
       "<pre style=\"word-wrap: normal;white-space: pre;background: #fff0;line-height: 1.1;font-family: &quot;Courier New&quot;,Courier,monospace\">                   ░ ┌─┐      \n",
       "   q_0: ──■────────░─┤M├──────\n",
       "          │        ░ └╥┘┌─┐   \n",
       "   q_1: ──┼────■───░──╫─┤M├───\n",
       "        ┌─┴─┐┌─┴─┐ ░  ║ └╥┘┌─┐\n",
       "   q_2: ┤ X ├┤ X ├─░──╫──╫─┤M├\n",
       "        └───┘└───┘ ░  ║  ║ └╥┘\n",
       "meas: 3/══════════════╩══╩══╩═\n",
       "                      0  1  2 </pre>"
      ],
      "text/plain": [
       "                   ░ ┌─┐      \n",
       "   q_0: ──■────────░─┤M├──────\n",
       "          │        ░ └╥┘┌─┐   \n",
       "   q_1: ──┼────■───░──╫─┤M├───\n",
       "        ┌─┴─┐┌─┴─┐ ░  ║ └╥┘┌─┐\n",
       "   q_2: ┤ X ├┤ X ├─░──╫──╫─┤M├\n",
       "        └───┘└───┘ ░  ║  ║ └╥┘\n",
       "meas: 3/══════════════╩══╩══╩═\n",
       "                      0  1  2 "
      ]
     },
     "execution_count": 14,
     "metadata": {},
     "output_type": "execute_result"
    }
   ],
   "source": [
    "# XOR gate = OR + NOT = CX + CX (smart!)\n",
    "qc = QuantumCircuit(3)\n",
    "qc.cx(0, 2)\n",
    "qc.cx(1, 2)\n",
    "qc.measure_all()\n",
    "qc.draw()"
   ]
  },
  {
   "cell_type": "markdown",
   "metadata": {},
   "source": [
    "## NAND Gate"
   ]
  },
  {
   "cell_type": "code",
   "execution_count": 11,
   "metadata": {},
   "outputs": [
    {
     "data": {
      "text/html": [
       "<pre style=\"word-wrap: normal;white-space: pre;background: #fff0;line-height: 1.1;font-family: &quot;Courier New&quot;,Courier,monospace\">                   ░ ┌─┐      \n",
       "   q_0: ──■────────░─┤M├──────\n",
       "          │        ░ └╥┘┌─┐   \n",
       "   q_1: ──■────────░──╫─┤M├───\n",
       "        ┌─┴─┐┌───┐ ░  ║ └╥┘┌─┐\n",
       "   q_2: ┤ X ├┤ X ├─░──╫──╫─┤M├\n",
       "        └───┘└───┘ ░  ║  ║ └╥┘\n",
       "meas: 3/══════════════╩══╩══╩═\n",
       "                      0  1  2 </pre>"
      ],
      "text/plain": [
       "                   ░ ┌─┐      \n",
       "   q_0: ──■────────░─┤M├──────\n",
       "          │        ░ └╥┘┌─┐   \n",
       "   q_1: ──■────────░──╫─┤M├───\n",
       "        ┌─┴─┐┌───┐ ░  ║ └╥┘┌─┐\n",
       "   q_2: ┤ X ├┤ X ├─░──╫──╫─┤M├\n",
       "        └───┘└───┘ ░  ║  ║ └╥┘\n",
       "meas: 3/══════════════╩══╩══╩═\n",
       "                      0  1  2 "
      ]
     },
     "execution_count": 11,
     "metadata": {},
     "output_type": "execute_result"
    }
   ],
   "source": [
    "# NAND gate = AND + NOT = CCX gate + NOT gate\n",
    "qc = QuantumCircuit(3)\n",
    "qc.ccx(0, 1, 2)\n",
    "qc.x(2)\n",
    "qc.measure_all()\n",
    "qc.draw()"
   ]
  },
  {
   "cell_type": "markdown",
   "metadata": {},
   "source": [
    "## NOR Gate"
   ]
  },
  {
   "cell_type": "code",
   "execution_count": 15,
   "metadata": {},
   "outputs": [
    {
     "data": {
      "text/html": [
       "<pre style=\"word-wrap: normal;white-space: pre;background: #fff0;line-height: 1.1;font-family: &quot;Courier New&quot;,Courier,monospace\">                             ░ ┌─┐      \n",
       "   q_0: ──■─────────■────────░─┤M├──────\n",
       "          │         │        ░ └╥┘┌─┐   \n",
       "   q_1: ──┼────■────■────────░──╫─┤M├───\n",
       "        ┌─┴─┐┌─┴─┐┌─┴─┐┌───┐ ░  ║ └╥┘┌─┐\n",
       "   q_2: ┤ X ├┤ X ├┤ X ├┤ X ├─░──╫──╫─┤M├\n",
       "        └───┘└───┘└───┘└───┘ ░  ║  ║ └╥┘\n",
       "meas: 3/════════════════════════╩══╩══╩═\n",
       "                                0  1  2 </pre>"
      ],
      "text/plain": [
       "                             ░ ┌─┐      \n",
       "   q_0: ──■─────────■────────░─┤M├──────\n",
       "          │         │        ░ └╥┘┌─┐   \n",
       "   q_1: ──┼────■────■────────░──╫─┤M├───\n",
       "        ┌─┴─┐┌─┴─┐┌─┴─┐┌───┐ ░  ║ └╥┘┌─┐\n",
       "   q_2: ┤ X ├┤ X ├┤ X ├┤ X ├─░──╫──╫─┤M├\n",
       "        └───┘└───┘└───┘└───┘ ░  ║  ║ └╥┘\n",
       "meas: 3/════════════════════════╩══╩══╩═\n",
       "                                0  1  2 "
      ]
     },
     "execution_count": 15,
     "metadata": {},
     "output_type": "execute_result"
    }
   ],
   "source": [
    "# NOR gate = OR + NOT = CX + CX + CCX + NOT gate\n",
    "qc = QuantumCircuit(3)\n",
    "qc.cx(0, 2)\n",
    "qc.cx(1, 2)\n",
    "qc.ccx(0, 1, 2)\n",
    "qc.x(2)\n",
    "qc.measure_all()\n",
    "qc.draw()"
   ]
  },
  {
   "cell_type": "markdown",
   "metadata": {},
   "source": [
    "## Half Adder"
   ]
  },
  {
   "cell_type": "code",
   "execution_count": 18,
   "metadata": {},
   "outputs": [
    {
     "data": {
      "text/html": [
       "<pre style=\"word-wrap: normal;white-space: pre;background: #fff0;line-height: 1.1;font-family: &quot;Courier New&quot;,Courier,monospace\">                          \n",
       "q_0: ──■─────────■────────\n",
       "       │         │        \n",
       "q_1: ──┼────■────■────────\n",
       "     ┌─┴─┐┌─┴─┐  │  ┌─┐   \n",
       "q_2: ┤ X ├┤ X ├──┼──┤M├───\n",
       "     └───┘└───┘┌─┴─┐└╥┘┌─┐\n",
       "q_3: ──────────┤ X ├─╫─┤M├\n",
       "               └───┘ ║ └╥┘\n",
       "c: 2/════════════════╩══╩═\n",
       "                     0  1 </pre>"
      ],
      "text/plain": [
       "                          \n",
       "q_0: ──■─────────■────────\n",
       "       │         │        \n",
       "q_1: ──┼────■────■────────\n",
       "     ┌─┴─┐┌─┴─┐  │  ┌─┐   \n",
       "q_2: ┤ X ├┤ X ├──┼──┤M├───\n",
       "     └───┘└───┘┌─┴─┐└╥┘┌─┐\n",
       "q_3: ──────────┤ X ├─╫─┤M├\n",
       "               └───┘ ║ └╥┘\n",
       "c: 2/════════════════╩══╩═\n",
       "                     0  1 "
      ]
     },
     "execution_count": 18,
     "metadata": {},
     "output_type": "execute_result"
    }
   ],
   "source": [
    "# Half Adder = Sum + Carry = XOR + AND\n",
    "qc = QuantumCircuit(4, 2)\n",
    "\n",
    "# XOR (Sum)\n",
    "qc.cx(0, 2)\n",
    "qc.cx(1, 2)\n",
    "\n",
    "# AND (Carry)\n",
    "qc.ccx(0, 1, 3)\n",
    "\n",
    "qc.measure([2, 3], [0, 1])\n",
    "qc.draw()"
   ]
  },
  {
   "cell_type": "markdown",
   "metadata": {},
   "source": [
    "## Full Adder"
   ]
  },
  {
   "cell_type": "code",
   "execution_count": 33,
   "metadata": {},
   "outputs": [],
   "source": [
    "# Full Adder = \n",
    "qc = QuantumCircuit(5, 2)\n"
   ]
  }
 ],
 "metadata": {
  "kernelspec": {
   "display_name": "Python 3",
   "language": "python",
   "name": "python3"
  },
  "language_info": {
   "codemirror_mode": {
    "name": "ipython",
    "version": 3
   },
   "file_extension": ".py",
   "mimetype": "text/x-python",
   "name": "python",
   "nbconvert_exporter": "python",
   "pygments_lexer": "ipython3",
   "version": "3.7.6"
  }
 },
 "nbformat": 4,
 "nbformat_minor": 2
}
