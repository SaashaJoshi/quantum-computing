{
 "cells": [
  {
   "cell_type": "code",
   "execution_count": 1,
   "metadata": {},
   "outputs": [],
   "source": [
    "import pennylane as qml\n",
    "# from pennylane import *\n",
    "import numpy as np"
   ]
  },
  {
   "cell_type": "code",
   "execution_count": 4,
   "metadata": {},
   "outputs": [],
   "source": [
    "dev = qml.device('default.qubit', wires = 2)"
   ]
  },
  {
   "cell_type": "code",
   "execution_count": 5,
   "metadata": {},
   "outputs": [],
   "source": [
    "U = np.array([[0., -0.70710678, 0., 0.70710678], \n",
    "              [0.70710678, 0., -0.70710678, 0.], \n",
    "              [0.70710678, 0., 0.70710678, 0.], \n",
    "              [0., -0.70710678, 0., -0.70710678]])"
   ]
  },
  {
   "cell_type": "code",
   "execution_count": 25,
   "metadata": {},
   "outputs": [],
   "source": [
    "@qml.qnode(dev)\n",
    "def circuit():\n",
    "    qml.QubitUnitary(U, wires = [0, 1])\n",
    "    return qml.probs(wires = [0, 1])"
   ]
  },
  {
   "cell_type": "code",
   "execution_count": 26,
   "metadata": {},
   "outputs": [
    {
     "name": "stdout",
     "output_type": "stream",
     "text": [
      "[0.  0.5 0.5 0. ]\n",
      "[0.        +0.j 0.70710678+0.j 0.70710678+0.j 0.        +0.j]\n"
     ]
    }
   ],
   "source": [
    "print(circuit())    # Returns probability of state 10 and 01 i.e. [0. 0.5 0.5 0.]\n",
    "print(dev.state)    # Returns the statevector [0.+0.j 0.707+0.j 0.707+0.j 0.+0.j]"
   ]
  },
  {
   "cell_type": "code",
   "execution_count": 6,
   "metadata": {},
   "outputs": [],
   "source": [
    "@qml.qnode(dev)\n",
    "def circuit_measure():\n",
    "    qml.QubitUnitary(U, wires = [0, 1])\n",
    "    return qml.sample(qml.PauliZ(wires = 0)), qml.sample(qml.PauliZ(wires = 1))    # Why PauliZ ? It measures -1 or 1 ?\n",
    "#     return qml.expval(qml.PauliZ(wires = 0)), qml.expval(qml.PauliZ(wires = 1))    # expval for measurement + average"
   ]
  },
  {
   "cell_type": "code",
   "execution_count": 7,
   "metadata": {},
   "outputs": [
    {
     "name": "stdout",
     "output_type": "stream",
     "text": [
      "[[ 1 -1  1 ...  1  1 -1]\n",
      " [-1  1 -1 ... -1 -1  1]]\n",
      "[0.        +0.j 0.70710678+0.j 0.70710678+0.j 0.        +0.j]\n"
     ]
    }
   ],
   "source": [
    "print(circuit_measure())    # Returns probability of state -1 and 1 i.e. [[-1], [1]] ??\n",
    "# [[-1], [1]] means that the first qubit was in state 0 and second qubit was in state 1!\n",
    "print(dev.state)    # Returns the statevector [0.+0.j 0.707+0.j 0.707+0.j 0.+0.j]\t"
   ]
  },
  {
   "cell_type": "code",
   "execution_count": null,
   "metadata": {},
   "outputs": [],
   "source": []
  }
 ],
 "metadata": {
  "kernelspec": {
   "display_name": "Python 3",
   "language": "python",
   "name": "python3"
  },
  "language_info": {
   "codemirror_mode": {
    "name": "ipython",
    "version": 3
   },
   "file_extension": ".py",
   "mimetype": "text/x-python",
   "name": "python",
   "nbconvert_exporter": "python",
   "pygments_lexer": "ipython3",
   "version": "3.7.6"
  }
 },
 "nbformat": 4,
 "nbformat_minor": 2
}
