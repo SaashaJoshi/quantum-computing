{
 "cells": [
  {
   "cell_type": "code",
   "execution_count": 1,
   "id": "lesser-nelson",
   "metadata": {},
   "outputs": [],
   "source": [
    "import pennylane as qml\n",
    "from pennylane import numpy as np"
   ]
  },
  {
   "cell_type": "code",
   "execution_count": 37,
   "id": "collected-homeless",
   "metadata": {},
   "outputs": [],
   "source": [
    "# Creating a device.\n",
    "dev = qml.device(name = 'default.qubit', wires = ['wire0'], shots = 1024)"
   ]
  },
  {
   "cell_type": "code",
   "execution_count": 38,
   "id": "inner-demonstration",
   "metadata": {},
   "outputs": [],
   "source": [
    "# quantum functions are a restricted subset of Python functions. \n",
    "# Quantum functions return some observable.\n",
    "# In the quantum function you can now use your own labels to address wires:\n",
    "\n",
    "def quantum_func(param1, param2):\n",
    "    qml.RX(param1, wires = 'wire0')\n",
    "    qml.RY(param2, wires = 'wire0')\n",
    "    \n",
    "    return qml.expval(qml.PauliZ(wires = 'wire0'))    # expval = expectation value / measurement"
   ]
  },
  {
   "cell_type": "code",
   "execution_count": 39,
   "id": "medium-moisture",
   "metadata": {},
   "outputs": [
    {
     "name": "stdout",
     "output_type": "stream",
     "text": [
      "1.0\n",
      " wire0: ──RX(3.14)──RY(3.14)──┤ ⟨Z⟩ \n",
      "\n"
     ]
    }
   ],
   "source": [
    "# params = np.array([(np.pi), (np.pi)])\n",
    "circuit = qml.QNode(quantum_func, dev)    # explicitly creating a qnode here.\n",
    "\n",
    "print(circuit(np.pi, np.pi))\n",
    "print(circuit.draw())"
   ]
  },
  {
   "cell_type": "code",
   "execution_count": null,
   "id": "formed-warning",
   "metadata": {},
   "outputs": [],
   "source": []
  },
  {
   "cell_type": "code",
   "execution_count": 2,
   "id": "armed-canyon",
   "metadata": {},
   "outputs": [],
   "source": [
    "# Creating a device.\n",
    "dev = qml.device(name = 'default.qubit', wires = ['wire0'], shots = 1024)"
   ]
  },
  {
   "cell_type": "code",
   "execution_count": 3,
   "id": "synthetic-present",
   "metadata": {},
   "outputs": [],
   "source": [
    "# Using a qnode decorator this time.\n",
    "@qml.qnode(dev)    # qnode decorator\n",
    "\n",
    "def circuit(params):\n",
    "    qml.RX(params[0], wires = 'wire0')\n",
    "    qml.RY(params[1], wires = 'wire0')\n",
    "    \n",
    "    return qml.expval(qml.PauliZ(wires = 'wire0'))    # expval = expectation value or measurement"
   ]
  },
  {
   "cell_type": "code",
   "execution_count": 4,
   "id": "metropolitan-sigma",
   "metadata": {},
   "outputs": [
    {
     "name": "stdout",
     "output_type": "stream",
     "text": [
      "1.0\n",
      " wire0: ──RX(3.14)──RY(3.14)──┤ ⟨Z⟩ \n",
      "\n"
     ]
    }
   ],
   "source": [
    "params = np.array([np.pi, np.pi])\n",
    "print(circuit(params))\n",
    "print(circuit.draw())"
   ]
  },
  {
   "cell_type": "code",
   "execution_count": 45,
   "id": "limiting-wayne",
   "metadata": {},
   "outputs": [
    {
     "name": "stdout",
     "output_type": "stream",
     "text": [
      "[1.2246468e-16 1.2246468e-16]\n"
     ]
    }
   ],
   "source": [
    "# Quantum gradients.\n",
    "dcircuit = qml.grad(circuit, argnum = 0)\n",
    "print(dcircuit(params))"
   ]
  },
  {
   "cell_type": "code",
   "execution_count": null,
   "id": "expected-burst",
   "metadata": {},
   "outputs": [],
   "source": []
  },
  {
   "cell_type": "code",
   "execution_count": 6,
   "id": "technical-feedback",
   "metadata": {},
   "outputs": [],
   "source": [
    "# Creating a device.\n",
    "dev = qml.device(name = 'default.qubit', wires = ['wire0'], shots = 1024)"
   ]
  },
  {
   "cell_type": "code",
   "execution_count": 12,
   "id": "detailed-russell",
   "metadata": {},
   "outputs": [],
   "source": [
    "# Using a qnode decorator this time.\n",
    "@qml.qnode(dev)    # qnode decorator\n",
    "\n",
    "def circuit(params):\n",
    "    qml.RX(params[0], wires = 'wire0')\n",
    "    qml.RY(params[1], wires = 'wire0')\n",
    "    \n",
    "    return qml.probs(wires = 'wire0')    # expval = expectation value or measurement"
   ]
  },
  {
   "cell_type": "code",
   "execution_count": 15,
   "id": "moderate-leeds",
   "metadata": {},
   "outputs": [
    {
     "name": "stdout",
     "output_type": "stream",
     "text": [
      "[1.00000000e+00 7.49879891e-33]\n",
      " wire0: ──RX(3.14)──RY(3.14)──┤ Probs \n",
      "\n"
     ]
    }
   ],
   "source": [
    "params = np.array([np.pi, np.pi])\n",
    "print(circuit(params))\n",
    "print(circuit.draw())"
   ]
  },
  {
   "cell_type": "code",
   "execution_count": 16,
   "id": "local-hayes",
   "metadata": {},
   "outputs": [
    {
     "name": "stdout",
     "output_type": "stream",
     "text": [
      "7.498798913309288e-33\n"
     ]
    }
   ],
   "source": [
    "print(circuit(params)[1])"
   ]
  },
  {
   "cell_type": "code",
   "execution_count": null,
   "id": "associate-savage",
   "metadata": {},
   "outputs": [],
   "source": []
  }
 ],
 "metadata": {
  "kernelspec": {
   "display_name": "Python 3",
   "language": "python",
   "name": "python3"
  },
  "language_info": {
   "codemirror_mode": {
    "name": "ipython",
    "version": 3
   },
   "file_extension": ".py",
   "mimetype": "text/x-python",
   "name": "python",
   "nbconvert_exporter": "python",
   "pygments_lexer": "ipython3",
   "version": "3.9.1"
  }
 },
 "nbformat": 4,
 "nbformat_minor": 5
}
