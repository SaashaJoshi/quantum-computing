{
 "cells": [
  {
   "cell_type": "code",
   "execution_count": 1,
   "id": "governmental-fisher",
   "metadata": {},
   "outputs": [],
   "source": [
    "import pennylane as qml\n",
    "# from pennylane import numpy as np\n",
    "import numpy as np"
   ]
  },
  {
   "cell_type": "code",
   "execution_count": 2,
   "id": "loved-dealing",
   "metadata": {},
   "outputs": [],
   "source": [
    "dev = qml.device(name = 'default.qubit', wires = 3, shots = 1000)"
   ]
  },
  {
   "cell_type": "code",
   "execution_count": 3,
   "id": "operational-cleanup",
   "metadata": {},
   "outputs": [],
   "source": [
    "@qml.qnode(dev)\n",
    "def circuit(weights):\n",
    "    for i in range(len(weights)):\n",
    "        qml.RX(weights[i, 0], wires=0)\n",
    "        qml.RY(weights[i, 1], wires=1)\n",
    "        qml.RZ(weights[i, 2], wires=2)\n",
    "\n",
    "        qml.CNOT(wires=[0, 1])\n",
    "        qml.CNOT(wires=[1, 2])\n",
    "        qml.CNOT(wires=[2, 0])\n",
    "\n",
    "    return qml.expval(qml.PauliY(0) @ qml.PauliZ(2))"
   ]
  },
  {
   "cell_type": "code",
   "execution_count": 4,
   "id": "polyphonic-reconstruction",
   "metadata": {},
   "outputs": [
    {
     "name": "stdout",
     "output_type": "stream",
     "text": [
      "[[ 1.     0.5   -0.765]\n",
      " [ 0.1    0.    -0.654]]\n",
      "-1.3877787807814457e-17\n",
      " 0: ──RX(1)───────╭C─────────────╭X──RX(0.1)─────╭C──────╭X──╭┤ ⟨Y ⊗ Z⟩ \n",
      " 1: ──RY(0.5)─────╰X──╭C──RY(0)──│───────────────╰X──╭C──│───│┤         \n",
      " 2: ──RZ(-0.765)──────╰X─────────╰C──RZ(-0.654)──────╰X──╰C──╰┤ ⟨Y ⊗ Z⟩ \n",
      "\n"
     ]
    }
   ],
   "source": [
    "weights = '1,0.5,-0.765S0.1,0,-0.654'\n",
    "weights = np.array([row.split(\",\") for row in weights.split(\"S\") if row], dtype=np.float64)\n",
    "print(weights)\n",
    "\n",
    "print(circuit(weights))\n",
    "print(circuit.draw())"
   ]
  },
  {
   "cell_type": "code",
   "execution_count": 13,
   "id": "exact-patient",
   "metadata": {},
   "outputs": [],
   "source": [
    "# Parameter Shift Rule (PSR)\n",
    "def parameter_shift(qnode, weights, i, j):\n",
    "    param = weights.copy()\n",
    "    param2 = weights.copy()\n",
    "    s = np.pi/2\n",
    "    \n",
    "    # Forward shift\n",
    "    param[i, j] = param[i, j] + (np.pi/2)\n",
    "    forward_shift = qnode(param)\n",
    "    \n",
    "    # Backward Shift\n",
    "    param2[i, j] = param2[i, j] - (np.pi/2)\n",
    "    backward_shift = qnode(param2)\n",
    "    \n",
    "    return (forward_shift - backward_shift) / (2*np.sin(np.pi/2))"
   ]
  },
  {
   "cell_type": "code",
   "execution_count": 17,
   "id": "innovative-messaging",
   "metadata": {},
   "outputs": [],
   "source": [
    "def main(qnode, weights):\n",
    "    gradient = np.zeros_like(weights)\n",
    "    \n",
    "    for i in range(len(weights)):\n",
    "        for j in range(len(weights[i])):\n",
    "            gradient[i, j] = parameter_shift(qnode, weights, i, j)\n",
    "        \n",
    "    return gradient"
   ]
  },
  {
   "cell_type": "code",
   "execution_count": 18,
   "id": "different-convergence",
   "metadata": {},
   "outputs": [
    {
     "name": "stdout",
     "output_type": "stream",
     "text": [
      "[[ 0.          0.          0.        ]\n",
      " [ 0.         -0.45534747  0.        ]]\n"
     ]
    }
   ],
   "source": [
    "print(main(circuit, weights))"
   ]
  },
  {
   "cell_type": "code",
   "execution_count": null,
   "id": "judicial-burke",
   "metadata": {},
   "outputs": [],
   "source": []
  }
 ],
 "metadata": {
  "kernelspec": {
   "display_name": "Python 3",
   "language": "python",
   "name": "python3"
  },
  "language_info": {
   "codemirror_mode": {
    "name": "ipython",
    "version": 3
   },
   "file_extension": ".py",
   "mimetype": "text/x-python",
   "name": "python",
   "nbconvert_exporter": "python",
   "pygments_lexer": "ipython3",
   "version": "3.9.1"
  }
 },
 "nbformat": 4,
 "nbformat_minor": 5
}
