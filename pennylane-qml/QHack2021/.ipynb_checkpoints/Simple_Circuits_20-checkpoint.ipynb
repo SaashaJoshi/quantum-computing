{
 "cells": [
  {
   "cell_type": "code",
   "execution_count": 6,
   "id": "governmental-fisher",
   "metadata": {},
   "outputs": [],
   "source": [
    "import pennylane as qml\n",
    "from pennylane import numpy as np"
   ]
  },
  {
   "cell_type": "code",
   "execution_count": 3,
   "id": "loved-dealing",
   "metadata": {},
   "outputs": [],
   "source": [
    "dev = qml.device(name = 'default.qubit', wires = 1, shots = 1000)"
   ]
  },
  {
   "cell_type": "code",
   "execution_count": 4,
   "id": "operational-cleanup",
   "metadata": {},
   "outputs": [],
   "source": [
    "@qml.qnode(dev)\n",
    "\n",
    "def circuit(param):\n",
    "    qml.RX(param, wires = 0)\n",
    "    return qml.probs(wires = 0)"
   ]
  },
  {
   "cell_type": "code",
   "execution_count": 9,
   "id": "cellular-interface",
   "metadata": {},
   "outputs": [
    {
     "name": "stdout",
     "output_type": "stream",
     "text": [
      "0.5563631060725739\n",
      " 0: ──RX(1.46)──┤ Probs \n",
      "\n"
     ]
    }
   ],
   "source": [
    "param = 1.45783\n",
    "print(circuit(param)[0])\n",
    "print(circuit.draw())"
   ]
  },
  {
   "cell_type": "code",
   "execution_count": null,
   "id": "exact-patient",
   "metadata": {},
   "outputs": [],
   "source": []
  }
 ],
 "metadata": {
  "kernelspec": {
   "display_name": "Python 3",
   "language": "python",
   "name": "python3"
  },
  "language_info": {
   "codemirror_mode": {
    "name": "ipython",
    "version": 3
   },
   "file_extension": ".py",
   "mimetype": "text/x-python",
   "name": "python",
   "nbconvert_exporter": "python",
   "pygments_lexer": "ipython3",
   "version": "3.9.1"
  }
 },
 "nbformat": 4,
 "nbformat_minor": 5
}
