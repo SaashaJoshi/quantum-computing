{
 "cells": [
  {
   "cell_type": "code",
   "execution_count": 1,
   "id": "governmental-fisher",
   "metadata": {},
   "outputs": [],
   "source": [
    "import pennylane as qml\n",
    "from pennylane import numpy as np\n",
    "# import numpy as np"
   ]
  },
  {
   "cell_type": "code",
   "execution_count": 2,
   "id": "loved-dealing",
   "metadata": {},
   "outputs": [],
   "source": [
    "dev = qml.device(name = 'default.qubit', wires = 3, shots = 1000)"
   ]
  },
  {
   "cell_type": "code",
   "execution_count": 3,
   "id": "operational-cleanup",
   "metadata": {},
   "outputs": [],
   "source": [
    "@qml.qnode(dev, interface=None)\n",
    "def circuit(w):\n",
    "    for i in range(3):\n",
    "        qml.RX(w[i], wires=i)\n",
    "\n",
    "    qml.CNOT(wires=[0, 1])\n",
    "    qml.CNOT(wires=[1, 2])\n",
    "    qml.CNOT(wires=[2, 0])\n",
    "\n",
    "    qml.RY(w[3], wires=1)\n",
    "\n",
    "    qml.CNOT(wires=[0, 1])\n",
    "    qml.CNOT(wires=[1, 2])\n",
    "    qml.CNOT(wires=[2, 0])\n",
    "\n",
    "    qml.RX(w[4], wires=2)\n",
    "\n",
    "    return qml.expval(qml.PauliZ(0) @ qml.PauliZ(2))"
   ]
  },
  {
   "cell_type": "code",
   "execution_count": 4,
   "id": "polyphonic-reconstruction",
   "metadata": {},
   "outputs": [
    {
     "name": "stdout",
     "output_type": "stream",
     "text": [
      "[0.1 0.2 0.1 0.2 0.7]\n",
      "0.6083294911254773\n",
      " 0: ──RX(0.1)──╭C───────────────╭X──╭C──────╭X───────────╭┤ ⟨Z ⊗ Z⟩ \n",
      " 1: ──RX(0.2)──╰X──╭C──RY(0.2)──│───╰X──╭C──│────────────│┤         \n",
      " 2: ──RX(0.1)──────╰X───────────╰C──────╰X──╰C──RX(0.7)──╰┤ ⟨Z ⊗ Z⟩ \n",
      "\n"
     ]
    }
   ],
   "source": [
    "weights = '0.1,0.2,0.1,0.2,0.7'\n",
    "weights = weights.split(\",\")\n",
    "weights = np.array(weights, float)\n",
    "print(weights)\n",
    "\n",
    "print(circuit(weights))\n",
    "print(circuit.draw())"
   ]
  },
  {
   "cell_type": "code",
   "execution_count": 5,
   "id": "several-lightning",
   "metadata": {},
   "outputs": [],
   "source": [
    "def psr(qnode, weights, i):\n",
    "    param1 = weights.copy()\n",
    "    param2 = weights.copy()\n",
    "    s = np.pi/2\n",
    "    \n",
    "    # Forward shift\n",
    "    param1[i] = param1[i] + (np.pi/2)\n",
    "    forward_shift = qnode(param1)\n",
    "    \n",
    "    # Backward Shift\n",
    "    param2[i] = param2[i] - (np.pi/2)\n",
    "    backward_shift = qnode(param2)\n",
    "    \n",
    "    gradient = (forward_shift - backward_shift) / (2*np.sin(np.pi/2))\n",
    "\n",
    "    return gradient"
   ]
  },
  {
   "cell_type": "code",
   "execution_count": 6,
   "id": "ahead-legislation",
   "metadata": {},
   "outputs": [],
   "source": [
    "def hess(qnode, weights, i, j):\n",
    "    param = weights.copy()\n",
    "    param2 = weights.copy()\n",
    "    s = np.pi/2\n",
    "    \n",
    "    # Forward shift\n",
    "    param[j] = param[j] + (np.pi/2)\n",
    "    forward_shift = qnode(param)\n",
    "    \n",
    "    # Backward Shift\n",
    "    param2[j] = param2[j] - (np.pi/2)\n",
    "    backward_shift = qnode(param2)\n",
    "    \n",
    "    return (forward_shift - backward_shift) / (2*np.sin(np.pi/2))"
   ]
  },
  {
   "cell_type": "code",
   "execution_count": 12,
   "id": "exact-patient",
   "metadata": {},
   "outputs": [],
   "source": [
    "def main(qnode, weights):\n",
    "    gradient = np.zeros([5], dtype=np.float64)\n",
    "    gradient2 = np.zeros([5], dtype=np.float64)\n",
    "    jacobian = np.zeros([5, 5], dtype=np.float64)\n",
    "    hessian = np.zeros([5, 5], dtype=np.float64)\n",
    "    \n",
    "    for i in range(len(weights)):\n",
    "        gradient[i] = psr(qnode, weights, i)\n",
    "        \n",
    "    print(gradient)   \n",
    "    \n",
    "    return hessian"
   ]
  },
  {
   "cell_type": "code",
   "execution_count": 13,
   "id": "innovative-messaging",
   "metadata": {},
   "outputs": [
    {
     "name": "stdout",
     "output_type": "stream",
     "text": [
      "[ 0.0012756  -0.76689092 -0.18902284 -0.03741762 -0.79149374]\n",
      "[[0. 0. 0. 0. 0.]\n",
      " [0. 0. 0. 0. 0.]\n",
      " [0. 0. 0. 0. 0.]\n",
      " [0. 0. 0. 0. 0.]\n",
      " [0. 0. 0. 0. 0.]]\n"
     ]
    }
   ],
   "source": [
    "print(main(circuit, weights))"
   ]
  },
  {
   "cell_type": "code",
   "execution_count": 9,
   "id": "different-convergence",
   "metadata": {},
   "outputs": [
    {
     "data": {
      "text/plain": [
       "51"
      ]
     },
     "execution_count": 9,
     "metadata": {},
     "output_type": "execute_result"
    }
   ],
   "source": [
    "0.0012756024,-0.7668909241,-0.1890228368,-0.0374176229,-0.7914937431,\n",
    "\n",
    "0.012713476,0.0,0.012713476,0.0062927444,0.0015144486,\n",
    "0.0,-0.6210429671,0.0769457494,0.1248084389,-0.6036371367,\n",
    "0.012713476,0.0769457494,-0.6083294911,-0.6276219392,-0.0725364203,\n",
    "0.0062927444,0.1248084389,-0.6276219392,0.1375219149,-0.0444237671,\n",
    "0.0015144486,-0.6036371367,-0.0725364203,-0.0444237671,-0.6083294911,\n",
    "\n",
    "51\n"
   ]
  },
  {
   "cell_type": "code",
   "execution_count": null,
   "id": "supported-terrorism",
   "metadata": {},
   "outputs": [],
   "source": []
  }
 ],
 "metadata": {
  "kernelspec": {
   "display_name": "Python 3",
   "language": "python",
   "name": "python3"
  },
  "language_info": {
   "codemirror_mode": {
    "name": "ipython",
    "version": 3
   },
   "file_extension": ".py",
   "mimetype": "text/x-python",
   "name": "python",
   "nbconvert_exporter": "python",
   "pygments_lexer": "ipython3",
   "version": "3.9.1"
  }
 },
 "nbformat": 4,
 "nbformat_minor": 5
}
