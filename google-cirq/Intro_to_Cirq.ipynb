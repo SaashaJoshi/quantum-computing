{
  "nbformat": 4,
  "nbformat_minor": 0,
  "metadata": {
    "colab": {
      "name": "Intro to Cirq",
      "provenance": [],
      "collapsed_sections": [
        "KnA4uBkwEw5-"
      ],
      "include_colab_link": true
    },
    "kernelspec": {
      "name": "python3",
      "display_name": "Python 3"
    }
  },
  "cells": [
    {
      "cell_type": "markdown",
      "metadata": {
        "id": "view-in-github",
        "colab_type": "text"
      },
      "source": [
        "<a href=\"https://colab.research.google.com/github/SaashaJoshi/quantum-computing/blob/master/google-cirq/Intro_to_Cirq.ipynb\" target=\"_parent\"><img src=\"https://colab.research.google.com/assets/colab-badge.svg\" alt=\"Open In Colab\"/></a>"
      ]
    },
    {
      "cell_type": "markdown",
      "metadata": {
        "id": "8m9ye4AS6dE4"
      },
      "source": [
        "![Cirq](https://cirq.readthedocs.io/en/stable/_images/Cirq_logo_color.png)\n",
        "\n",
        "\n",
        "[Cirq](https://github.com/quantumlib/cirq) is a framework for writing quantum algorithms for noisy intermediate scale quantum (NISQ) devices. Roughly speaking, NISQ devices are those with O(100) qubits that can enact O(1000) gates.  Because the resources for NISQ devices are so constrained we believe that a framework for writing programs on these devices needs to be aware of all of the architectural properties of the device on which the algorithm is written. This is in contrast to other frameworks where there is a clean separation between the abstract model being used and the details of the device.  \n",
        "\n",
        "In this tutorial we will teach you the basics of writing quantum alogorithms in Cirq.\n",
        "\n",
        "---\n",
        "\n"
      ]
    },
    {
      "cell_type": "markdown",
      "metadata": {
        "id": "P2OBc27Elddh",
        "colab_type": "toc"
      },
      "source": [
        ">>[Installing Cirq](#scrollTo=rPgPbry6-mF3)\n",
        "\n",
        ">>[Qubits, Moments, Operations, and Circuits](#scrollTo=8A7a3jcql1l5)\n",
        "\n",
        ">>>[Create a Circuit](#scrollTo=VFwmWPf7D057)\n",
        "\n",
        ">>>[Building Circuits](#scrollTo=uaDb6B_jPgrb)\n",
        "\n",
        ">>>[Exercise: Create a circuit](#scrollTo=y9conKPAPn26)\n",
        "\n",
        ">>>>[Solution](#scrollTo=KnA4uBkwEw5-)\n",
        "\n",
        ">>[Simulations of a Circuit](#scrollTo=X15yPl_KQ20Z)\n",
        "\n",
        ">>>[Repetitions](#scrollTo=YLpiz0aN1Jd6)\n",
        "\n",
        "\n"
      ]
    },
    {
      "cell_type": "markdown",
      "metadata": {
        "id": "rPgPbry6-mF3"
      },
      "source": [
        "---\n",
        "## Installing Cirq\n",
        "\n",
        "To use Cirq one first needs to install Cirq.  For the purpose of using this notebook, you can run pip install to install the latest release of Cirq.  Different notebook execution systems exist but for most they have \"run\" button on a cell, which you can push, or shift+enter is often the shortcut to run the cell.  Doing so in the following cell should install Cirq. \n"
      ]
    },
    {
      "cell_type": "code",
      "metadata": {
        "id": "RlJBDvNgC00H",
        "outputId": "58980641-4fc9-4a45-da49-3e25c5164ae1",
        "colab": {
          "base_uri": "https://localhost:8080/",
          "height": 102
        }
      },
      "source": [
        "# Install Cirq\n",
        "!pip install cirq==0.5 --quiet"
      ],
      "execution_count": null,
      "outputs": [
        {
          "output_type": "stream",
          "text": [
            "\u001b[K     |████████████████████████████████| 716kB 2.7MB/s \n",
            "\u001b[K     |████████████████████████████████| 12.8MB 319kB/s \n",
            "\u001b[31mERROR: plotnine 0.6.0 has requirement matplotlib>=3.1.1, but you'll have matplotlib 2.2.5 which is incompatible.\u001b[0m\n",
            "\u001b[31mERROR: mizani 0.6.0 has requirement matplotlib>=3.1.1, but you'll have matplotlib 2.2.5 which is incompatible.\u001b[0m\n",
            "\u001b[31mERROR: albumentations 0.1.12 has requirement imgaug<0.2.7,>=0.2.5, but you'll have imgaug 0.2.9 which is incompatible.\u001b[0m\n",
            "\u001b[?25h"
          ],
          "name": "stdout"
        }
      ]
    },
    {
      "cell_type": "markdown",
      "metadata": {
        "id": "GPjUqrK8DJTq"
      },
      "source": [
        "(Note: you may see an error about `albumentations` requiring an old `imgaug`. You can ignore this error.)\n",
        "\n",
        "Let's check that Cirq has been successfully installed by importing Cirq and priting out a diagram of the Google's Bristlecone device. ![Google's Bristecone chip](https://4.bp.blogspot.com/-b9akad6ismU/WpmyaJo-cYI/AAAAAAAACa8/mCqPBJxv5oUivy6Jq42FSOQYkeRlTmkiwCLcBGAs/s1600/image1.png)"
      ]
    },
    {
      "cell_type": "code",
      "metadata": {
        "id": "FTrmLyq4C2gf",
        "outputId": "8425491e-c41c-40a6-9286-7fdc2654d8a6",
        "colab": {
          "base_uri": "https://localhost:8080/",
          "height": 544
        }
      },
      "source": [
        "import cirq\n",
        "import numpy as np\n",
        "import matplotlib \n",
        "print(cirq.google.Bristlecone)"
      ],
      "execution_count": null,
      "outputs": [
        {
          "output_type": "stream",
          "text": [
            "                                             (0, 5)────(0, 6)\n",
            "                                             │         │\n",
            "                                             │         │\n",
            "                                    (1, 4)───(1, 5)────(1, 6)────(1, 7)\n",
            "                                    │        │         │         │\n",
            "                                    │        │         │         │\n",
            "                           (2, 3)───(2, 4)───(2, 5)────(2, 6)────(2, 7)───(2, 8)\n",
            "                           │        │        │         │         │        │\n",
            "                           │        │        │         │         │        │\n",
            "                  (3, 2)───(3, 3)───(3, 4)───(3, 5)────(3, 6)────(3, 7)───(3, 8)───(3, 9)\n",
            "                  │        │        │        │         │         │        │        │\n",
            "                  │        │        │        │         │         │        │        │\n",
            "         (4, 1)───(4, 2)───(4, 3)───(4, 4)───(4, 5)────(4, 6)────(4, 7)───(4, 8)───(4, 9)───(4, 10)\n",
            "         │        │        │        │        │         │         │        │        │        │\n",
            "         │        │        │        │        │         │         │        │        │        │\n",
            "(5, 0)───(5, 1)───(5, 2)───(5, 3)───(5, 4)───(5, 5)────(5, 6)────(5, 7)───(5, 8)───(5, 9)───(5, 10)───(5, 11)\n",
            "         │        │        │        │        │         │         │        │        │        │\n",
            "         │        │        │        │        │         │         │        │        │        │\n",
            "         (6, 1)───(6, 2)───(6, 3)───(6, 4)───(6, 5)────(6, 6)────(6, 7)───(6, 8)───(6, 9)───(6, 10)\n",
            "                  │        │        │        │         │         │        │        │\n",
            "                  │        │        │        │         │         │        │        │\n",
            "                  (7, 2)───(7, 3)───(7, 4)───(7, 5)────(7, 6)────(7, 7)───(7, 8)───(7, 9)\n",
            "                           │        │        │         │         │        │\n",
            "                           │        │        │         │         │        │\n",
            "                           (8, 3)───(8, 4)───(8, 5)────(8, 6)────(8, 7)───(8, 8)\n",
            "                                    │        │         │         │\n",
            "                                    │        │         │         │\n",
            "                                    (9, 4)───(9, 5)────(9, 6)────(9, 7)\n",
            "                                             │         │\n",
            "                                             │         │\n",
            "                                             (10, 5)───(10, 6)\n"
          ],
          "name": "stdout"
        }
      ]
    },
    {
      "cell_type": "markdown",
      "metadata": {
        "id": "09zRgohCMiBs"
      },
      "source": [
        "The import ran without raising an error, and the output is in fact the grid of qubits for the Bristlecone device. Looks like the install worked!\n",
        "\n",
        "Be aware that Cirq is still alpha software, meaning **we are still making breaking changes all the time**. If you don't want your project to suddenly go from working to not working when we release a new version, you should depend on a *specific version* of Cirq and periodically bump that version to the latest one. For the purposes of this tutorial, we will use version of `0.5` (i.e. `cirq==0.5` in pip's version notation).\n",
        "\n",
        "---"
      ]
    },
    {
      "cell_type": "markdown",
      "metadata": {
        "id": "8A7a3jcql1l5"
      },
      "source": [
        "## Qubits, Moments, Operations, and Circuits\n",
        " \n",
        " In Cirq, circuits are represented either by a `Circuit` object or a `Schedule` object. `Schedule`s offer more control over quantum gates and circuits at the timing level.\n",
        "\n",
        "Conceptually: a `Circuit` is a collection of `Moment`s. A `Moment` is a collection of `Operation`s that all act during the same abstract time slice. An `Operation` is a an effect that operates on a specific subset of Qubits. The most common type of `Operation` is a `Gate` applied to several qubits (a \"`GateOperation`\"). The following diagram should help illustrate these concepts.\n",
        "\n",
        "![Circuits, Moments, and Operations.](https://cirq.readthedocs.io/en/latest/_images/CircuitMomentOperation.png)"
      ]
    },
    {
      "cell_type": "markdown",
      "metadata": {
        "id": "VFwmWPf7D057"
      },
      "source": [
        "### Create a Circuit\n",
        "\n",
        "Let's create a `Circuit`.  Note that in the previous cell we imported cirq, so we will assume that cirq has been imported through out the rest of this notebook."
      ]
    },
    {
      "cell_type": "code",
      "metadata": {
        "id": "pE88WsFeDGfs",
        "outputId": "7437a5d0-340e-4534-a661-95a5724a240a",
        "colab": {
          "base_uri": "https://localhost:8080/",
          "height": 102
        }
      },
      "source": [
        "a = cirq.NamedQubit(\"a\")\n",
        "b = cirq.NamedQubit(\"b\")\n",
        "c = cirq.NamedQubit(\"c\")\n",
        "ops = [cirq.H(a), cirq.H(b), cirq.CNOT(b, c), cirq.H(b)]\n",
        "circuit = cirq.Circuit.from_ops(ops)\n",
        "print(circuit)"
      ],
      "execution_count": null,
      "outputs": [
        {
          "output_type": "stream",
          "text": [
            "a: ───H───────────\n",
            "\n",
            "b: ───H───@───H───\n",
            "          │\n",
            "c: ───────X───────\n"
          ],
          "name": "stdout"
        }
      ]
    },
    {
      "cell_type": "markdown",
      "metadata": {
        "id": "-06jQwEdI4DJ"
      },
      "source": [
        "We can unpack this a bit and see all of the components for the circuit.\n",
        "\n",
        "\n",
        "The first thing we do is pick some qubits to use. There are many different types of qubits in Cirq, and you can define your own by inheriting from the `cirq.Qid` class. There's nothing inherently special or magical about these quantum id types such as `cirq.NamedQubit`. They simply identify what you wish to operate on, which is relevant when you are targeting a specific device. For example, if we were creating a circuit for the Bristlecone device we would use `cirq.GridQubit(5, 0)` to refer to the qubit in the left most position of the device. To keep these simple for now, we'll start with abstract qubits simply identified by a name such as \"a\".\n",
        "```\n",
        "a = cirq.NamedQubit(\"a\")\n",
        "```\n",
        "\n",
        "Next we encounter of the object `cirq.H`, which is a Hadamard gate.  `cirq.H` is an instance of the `cirq.HGate` class, which itself is a subclass of `Gate` (along with other classes). \n",
        "$$H = {1 \\over \\sqrt{2}} \\left[ \\begin{array}[cc]  & 1 & 1  \\\\ 1 & -1 \\end{array}\\right]$$\n",
        "We can use cirq to see this unitary matrix:"
      ]
    },
    {
      "cell_type": "code",
      "metadata": {
        "id": "YKfg575v1DQB",
        "outputId": "657f1a03-f5be-4d33-d591-a28806160781",
        "colab": {
          "base_uri": "https://localhost:8080/",
          "height": 51
        }
      },
      "source": [
        "cirq.unitary(cirq.H)"
      ],
      "execution_count": null,
      "outputs": [
        {
          "output_type": "execute_result",
          "data": {
            "text/plain": [
              "array([[ 0.70710678+0.j,  0.70710678+0.j],\n",
              "       [ 0.70710678+0.j, -0.70710678+0.j]])"
            ]
          },
          "metadata": {
            "tags": []
          },
          "execution_count": 4
        }
      ]
    },
    {
      "cell_type": "markdown",
      "metadata": {
        "id": "hJMAciW21KEg"
      },
      "source": [
        "`Gate` objects have the ability to applied \"on\" to one or more qubits.  There are two ways to do this for gates, either using the `on` method or by directly calling the gate on the qubits as if the gate were a function and the qubits were arguments.  For example to apply the `H` onto qubit `a` we can say\n",
        "```\n",
        "cirq.H.on(a)\n",
        "```\n",
        "or \n",
        "```\n",
        "cirq.H(a)\n",
        "```\n",
        "\n",
        "The result of those expressions is a `GateOperation` object, which is a type of `Operation`.\n",
        "\n",
        "In cirq we make a strong distinction between `Operation`s and `Gate`s. An `Operation` is associated with specific qubits and can be put in `Circuit`s. A `Gate` has unspecified qubits, and will produce an operation when given qubits.\n",
        "\n",
        "Once you have a collection of operations, you can construct a `Circuit` using the class method `Circuit.from_ops` (more on that in a minute):\n",
        "```\n",
        "circuit = cirq.Circuit.from_ops(ops)\n",
        "```\n",
        "The last thing we did in the example code was use the (surprisingly useful) ability to print the circuit as a text diagram.\n",
        "\n",
        "The diagram is visually helpful, but it doesn't really get into the internal details of how the `Circuit` is represented. \n",
        "A `Circuit` is made up of a sequence of `Moment` objects.\n",
        "And each `Moment` object is a list of non-overlapping `Operation`s.\n",
        "To see this internal structure, we can iterate over the `Moment`s in the `Circuit` while printing them out."
      ]
    },
    {
      "cell_type": "code",
      "metadata": {
        "id": "hH-y4JiEMv25",
        "outputId": "675c14d2-0b19-446b-a710-bd402fbfa927",
        "colab": {
          "base_uri": "https://localhost:8080/",
          "height": 68
        }
      },
      "source": [
        "for i, moment in enumerate(circuit):\n",
        "    print('Moment {}: {}'.format(i, moment))"
      ],
      "execution_count": null,
      "outputs": [
        {
          "output_type": "stream",
          "text": [
            "Moment 0: H(a) and H(b)\n",
            "Moment 1: CNOT(b, c)\n",
            "Moment 2: H(b)\n"
          ],
          "name": "stdout"
        }
      ]
    },
    {
      "cell_type": "markdown",
      "metadata": {
        "id": "pm5iC7MNQY6-"
      },
      "source": [
        "We can also just print the circuit's `repr`, which returns a somewhat more detailed (if less readable) expression."
      ]
    },
    {
      "cell_type": "code",
      "metadata": {
        "id": "2Y6zG_peQG1y",
        "outputId": "856b5d7e-c500-401e-9658-c37bd8d18cca",
        "colab": {
          "base_uri": "https://localhost:8080/",
          "height": 221
        }
      },
      "source": [
        "print(repr(circuit))"
      ],
      "execution_count": null,
      "outputs": [
        {
          "output_type": "stream",
          "text": [
            "cirq.Circuit(moments=[\n",
            "    cirq.Moment(operations=[\n",
            "        cirq.H.on(cirq.NamedQubit('a')),\n",
            "        cirq.H.on(cirq.NamedQubit('b')),\n",
            "    ]),\n",
            "    cirq.Moment(operations=[\n",
            "        cirq.CNOT.on(cirq.NamedQubit('b'), cirq.NamedQubit('c')),\n",
            "    ]),\n",
            "    cirq.Moment(operations=[\n",
            "        cirq.H.on(cirq.NamedQubit('b')),\n",
            "    ]),\n",
            "])\n"
          ],
          "name": "stdout"
        }
      ]
    },
    {
      "cell_type": "markdown",
      "metadata": {
        "id": "zyVbU8yfW_qi"
      },
      "source": [
        "The usefulness of printing the `repr` is that it includes *all* the gory details.\n",
        "These details can be useful when debugging.\n",
        "The `repr` is also a valid python expression that evaluates to the circuit.\n",
        "For example, if we notice that a circuit generated in some complicated way triggers a bug in a simulator, copy-pasting the generated circuit's `repr` into a test, and then working from there, is a simple way to decouple the reproduction of the bug from the circuit generation code."
      ]
    },
    {
      "cell_type": "markdown",
      "metadata": {
        "id": "uaDb6B_jPgrb"
      },
      "source": [
        "### Building Circuits\n",
        "Above we created the `Circuit` using `from_ops`.  But there are many ways to construct and modify circuits, and each of these is useful in different contexts.  Here are a few examples:\n",
        "\n",
        "\n",
        "1.   `from_ops`: This is the simplest way to make a circuit. Give this method some operations, and out pops a circuit.\n",
        "2.  `append`:  `Circuit`s are mutable. You can start with an empty `c = cirq.Circuit()` and simply `c.append(operations)` to add on more and more operations \n",
        "3. `insert`:  Instead of appending, you can insert before a particular moment location (labeled by an integer index)\n",
        "4.  By using `Circuit`'s constructor, which takes a list of `Moment`s. Each `Moment` must be explicitly constructed with its own list of `Operation`s. This is tedious, but gives complete control over how the operations are layed out.\n",
        "\n",
        "One interesting, and extremely convenient, fact about `from_ops`, `append`, and `insert` is that they \"auto flatten\" whatever you give them.\n",
        "You *can* give them a list of operations, but you can also give them a list *of lists* of operations.\n",
        "Or a generator function that sometimes yields tuples of operations and other times yields individual operations.\n",
        "Or just a single operation (without a list around it).\n",
        "If it can recursively iterated into individual operations, `from_ops` and `append` and `insert` will take it.\n",
        "\n",
        "The main place where auto-flattening is useful is when you are generating a circuit's operations using generator functions.\n",
        "This is jumping a bit ahead of what we've explained, but basically auto-flattening means that generators producing operations for a circuit can simply `yield` sub-generators (instead of iterating over them and yielding their items):\n"
      ]
    },
    {
      "cell_type": "code",
      "metadata": {
        "id": "QFoV-eOE1tGN",
        "outputId": "e7184822-c8a2-450a-e05b-5d6b029ad7c1",
        "colab": {
          "base_uri": "https://localhost:8080/",
          "height": 170
        }
      },
      "source": [
        "def xor_swap(a, b):\n",
        "    yield cirq.CNOT(a, b)\n",
        "    yield cirq.CNOT(b, a)\n",
        "    yield cirq.CNOT(a, b)\n",
        "  \n",
        "def left_rotate(qubits):\n",
        "    for i in range(len(qubits) - 1):\n",
        "        a, b = qubits[i:i+2]\n",
        "        yield xor_swap(a, b)\n",
        "\n",
        "line = cirq.LineQubit.range(5)\n",
        "print(cirq.Circuit.from_ops(left_rotate(line)))"
      ],
      "execution_count": null,
      "outputs": [
        {
          "output_type": "stream",
          "text": [
            "0: ───@───X───@───────────────────────────────────────\n",
            "      │   │   │\n",
            "1: ───X───@───X───@───X───@───────────────────────────\n",
            "                  │   │   │\n",
            "2: ───────────────X───@───X───@───X───@───────────────\n",
            "                              │   │   │\n",
            "3: ───────────────────────────X───@───X───@───X───@───\n",
            "                                          │   │   │\n",
            "4: ───────────────────────────────────────X───@───X───\n"
          ],
          "name": "stdout"
        }
      ]
    },
    {
      "cell_type": "markdown",
      "metadata": {
        "id": "p9LUxAU41wWs"
      },
      "source": [
        "You may have noticed that there is a hole in what we've explained so far.\n",
        "`from_ops` effectively takes a 1-dimensional sequence of operations, but the output is a 2-dimensional circuit (a list-of-lists-of-operations).\n",
        "There is a degree of freedom that hasn't been account for.\n",
        "Specifically: how does cirq choose the moment that each operation will be placed within?\n",
        "The answer is: it depends on the  `InsertStrategy` you choose.\n",
        "\n",
        "There are currently four insertion strategies in Cirq:\n",
        "\n",
        "1.  `InsertStrategy.EARLIEST` (currently the default)\n",
        "2. `InsertStrategy.NEW`,\n",
        "3. `InsertStrategy.INLINE`\n",
        "4.  `InsertStrategy.NEW_THEN_INLINE` \n",
        "\n",
        "`InsertStrategy.EARLIEST` is defined as\n",
        "> `InsertStrategy.EARLIEST`: Scans backward from the insert\n",
        "> location until a moment with operations touching qubits affected by the\n",
        "> operation to insert is found. The operation is added into the moment just\n",
        "> after that location.\n",
        "\n",
        "For example, if we first create an `Operation` in a single moment,\n",
        "and then use `InsertStrategy.EARLIEST` the `Operation` can slide back to this\n",
        "first `Moment` if there is space\n",
        "\n",
        "An `InsertStrategy` defines how ``Operations`` are placed in a `Circuit` when requested to be inserted at a given location.\n",
        "Here a `location` is identified by the index of the `Moment` in the `Circuit` that operations should be placed before (in the case of `Circuit.append` this means inserting at the index `len(circuit)`; which is one more than the largets moment index and so represents the end of the circuit)."
      ]
    },
    {
      "cell_type": "code",
      "metadata": {
        "id": "wNek1WjpX4MR",
        "outputId": "3cbe21f9-0ea0-42e9-9837-b73f3c78cba1",
        "colab": {
          "base_uri": "https://localhost:8080/",
          "height": 102
        }
      },
      "source": [
        "circuit = cirq.Circuit()\n",
        "circuit.append([cirq.CZ(a, b)])\n",
        "circuit.append([cirq.H(a), cirq.H(b), cirq.H(c)])\n",
        "print(circuit)"
      ],
      "execution_count": null,
      "outputs": [
        {
          "output_type": "stream",
          "text": [
            "a: ───@───H───\n",
            "      │\n",
            "b: ───@───H───\n",
            "\n",
            "c: ───H───────\n"
          ],
          "name": "stdout"
        }
      ]
    },
    {
      "cell_type": "markdown",
      "metadata": {
        "id": "TcHeZM6qXvbS"
      },
      "source": [
        "After creating the first moment with a `CZ` gate, the second\n",
        "append uses the `InsertStrategy.EARLIEST` strategy. The\n",
        "`H` on ``a`` and ``b`` cannot slide back, while the `H` on ``c`` can and so ends up in the first `Moment`.\n",
        "\n",
        "`InsertStrategy.EARLIEST` is the default strategy, the second most important strategy is `InsertStrategy.NEW_THEN_INLINE`:\n",
        "> `InsertStrategy.NEW_INLINE`: For the first operation, add it to a new \n",
        "> `Moment` the insertion point.  Attempts to add the operation after the first \n",
        "> operation to insert into the moment just before the desired insert location. \n",
        "> But, if there's already an existing operation affecting any of the qubits\n",
        "> touched by the operation to insert, a new moment is created instead and this \n",
        "> `Moment` is the one that is subsequently used for insertions.\n",
        "\n",
        "As an example of this examine this code"
      ]
    },
    {
      "cell_type": "code",
      "metadata": {
        "id": "qWVDhLxFYuRp",
        "outputId": "bc73f2d6-0b89-4dba-8ab9-f02ece678a33",
        "colab": {
          "base_uri": "https://localhost:8080/",
          "height": 102
        }
      },
      "source": [
        "circuit = cirq.Circuit()\n",
        "circuit.append([cirq.CZ(a, b)])\n",
        "circuit.append([cirq.H(c), cirq.H(b), cirq.H(b), cirq.H(a)], )\n",
        "print(circuit)"
      ],
      "execution_count": null,
      "outputs": [
        {
          "output_type": "stream",
          "text": [
            "a: ───@───H───────\n",
            "      │\n",
            "b: ───@───H───H───\n",
            "\n",
            "c: ───H───────────\n"
          ],
          "name": "stdout"
        }
      ]
    },
    {
      "cell_type": "markdown",
      "metadata": {
        "id": "y9conKPAPn26"
      },
      "source": [
        "### Exercise: Create a circuit\n",
        "\n",
        "Now that you've learned about `InsertStrategy`, here is an exercise to validate your understanding.  Create, using the least number of appends the following circuit (note that printing a circuit in Cirq does not always print a moment by moment structure e.g. to avoid overlapping operations in the diagram, but here imagine that you want exactly the moments indicated by the spacing of the circuit.)\n",
        "\n",
        "\n",
        "\n",
        "```\n",
        "a: ───@───H───────────H───H───\n",
        "      │\n",
        "b: ───@───────H───@───H───────\n",
        "                  │\n",
        "c: ───H───────────@───────────\n",
        "```\n",
        "\n"
      ]
    },
    {
      "cell_type": "markdown",
      "metadata": {
        "id": "KnA4uBkwEw5-"
      },
      "source": [
        "#### Solution"
      ]
    },
    {
      "cell_type": "code",
      "metadata": {
        "id": "jP4VkPeHcjJT",
        "cellView": "both",
        "outputId": "4204a780-3fda-420b-e39c-469ef81da0c1",
        "colab": {
          "base_uri": "https://localhost:8080/",
          "height": 102
        }
      },
      "source": [
        "#@title\n",
        "a = cirq.NamedQubit('a')\n",
        "b = cirq.NamedQubit('b')\n",
        "c = cirq.NamedQubit('c')\n",
        "circuit = cirq.Circuit()\n",
        "circuit.append([cirq.CZ(a, b), cirq.H(c), cirq.H(a)] )\n",
        "circuit.append([cirq.H(b), cirq.CZ(b, c), cirq.H(b), cirq.H(a), cirq.H(a)],\n",
        "               strategy=cirq.InsertStrategy.NEW_THEN_INLINE)\n",
        "print(circuit)"
      ],
      "execution_count": null,
      "outputs": [
        {
          "output_type": "stream",
          "text": [
            "a: ───@───H───────────H───H───\n",
            "      │\n",
            "b: ───@───────H───@───H───────\n",
            "                  │\n",
            "c: ───H───────────@───────────\n"
          ],
          "name": "stdout"
        }
      ]
    },
    {
      "cell_type": "markdown",
      "metadata": {
        "id": "X15yPl_KQ20Z"
      },
      "source": [
        "## Simulations of a Circuit\n",
        "\n",
        "Now that you know how to construct a `Circuit` in Cirq, let's use Cirq to simulate the circuit.\n",
        "\n",
        "Here is a simple circuit"
      ]
    },
    {
      "cell_type": "code",
      "metadata": {
        "id": "V6tZk3qGqBoH",
        "outputId": "2ffdd599-2650-4ea2-c527-b6e0c632fe61",
        "colab": {
          "base_uri": "https://localhost:8080/",
          "height": 68
        }
      },
      "source": [
        "def basic_circuit(measure=True):\n",
        "    sqrt_x = cirq.X**0.5\n",
        "    cz = cirq.CZ\n",
        "    yield sqrt_x(a), sqrt_x(b)\n",
        "    yield cz(a, b)\n",
        "    yield sqrt_x(a), sqrt_x(b)\n",
        "    if measure:\n",
        "        yield cirq.measure(a,b)\n",
        "        \n",
        "circuit = cirq.Circuit.from_ops(basic_circuit())\n",
        "print(circuit)"
      ],
      "execution_count": null,
      "outputs": [
        {
          "output_type": "stream",
          "text": [
            "a: ───X^0.5───@───X^0.5───M───\n",
            "              │           │\n",
            "b: ───X^0.5───@───X^0.5───M───\n"
          ],
          "name": "stdout"
        }
      ]
    },
    {
      "cell_type": "markdown",
      "metadata": {
        "id": "WpywVOeDqi4Q"
      },
      "source": [
        "There are a few things to note here.  \n",
        "\n",
        "One is that we have used a Python *generator*. Recall that in Python functions that have a `yield` are *generators*. Generators are functions that act as *iterators*. Above we see that we can iterate over ``basic_circuit()``. We see that when we do this each of the `yields` produces what was yielded, and here these are `Operations`,\n",
        "or lists of ``Operations``. But when we pass this iterator to the append method, something magical happens. `Circuit` is able to flatten all of these an pass them as one giant list to `Circuit.append` (this also works for `Circuit.insert`).\n",
        "> The above idea uses a concept we call an ``OP_TREE``. An ``OP_TREE`` is\n",
        "> not a class, but a contract. The basic idea is that, if the input can be\n",
        "> iteratively flattened into a list of operations, then the input is an\n",
        "> ``OP_TREE``.\n",
        "\n",
        "A very nice pattern emerges from this structure: define *generators* for sub-circuits, which can vary by size\n",
        "or `Operation` parameters.\n",
        "\n",
        "Now we can simulate this circuit."
      ]
    },
    {
      "cell_type": "code",
      "metadata": {
        "id": "KmGuMjvGw_Ef",
        "outputId": "10267877-e0e7-4738-fbf7-f5c900b01ab5",
        "colab": {
          "base_uri": "https://localhost:8080/",
          "height": 51
        }
      },
      "source": [
        "simulator = cirq.Simulator()\n",
        "circuit = cirq.Circuit.from_ops(basic_circuit())\n",
        "result = simulator.run(circuit)\n",
        "print('Measurement results')\n",
        "print(result)"
      ],
      "execution_count": null,
      "outputs": [
        {
          "output_type": "stream",
          "text": [
            "Measurement results\n",
            "a,b=1, 1\n"
          ],
          "name": "stdout"
        }
      ]
    },
    {
      "cell_type": "markdown",
      "metadata": {
        "id": "aHugx9T0z047"
      },
      "source": [
        "Running this multiple times should result in different measurement results, since the above circuit produces a superposition over all computational basis states.   \n",
        "\n",
        "Above we used the `run` method on the simulator.  These methods mimic the actual hardware in that they don't give one access to unphysical objects like the wavefunction.  If one wants to get the wave function, then the `simulate` methods can do this:\n"
      ]
    },
    {
      "cell_type": "code",
      "metadata": {
        "id": "Apj7WiFZ0WFm",
        "outputId": "4f022a7c-c38f-49e0-c797-afdd45689f35",
        "colab": {
          "base_uri": "https://localhost:8080/",
          "height": 85
        }
      },
      "source": [
        "circuit = cirq.Circuit()\n",
        "circuit.append(basic_circuit(measure=False))    \n",
        "result = simulator.simulate(circuit, qubit_order=[a, b])\n",
        "\n",
        "print('Wavefunction:')\n",
        "print(np.around(result.final_state, 3))\n",
        "print('Dirac notation:')\n",
        "print(result.dirac_notation())"
      ],
      "execution_count": null,
      "outputs": [
        {
          "output_type": "stream",
          "text": [
            "Wavefunction:\n",
            "[0.5+0.j  0. +0.5j 0. +0.5j 0.5+0.j ]\n",
            "Dirac notation:\n",
            "0.5|00⟩ + 0.5j|01⟩ + 0.5j|10⟩ + 0.5|11⟩\n"
          ],
          "name": "stdout"
        }
      ]
    },
    {
      "cell_type": "markdown",
      "metadata": {
        "id": "t18-sIJc0cvf"
      },
      "source": [
        "Notice that we passed a `qubit_orde`r into the `simulate` method.  This order helps define the order of the kronecker product used in the resulting `final_state` vector.  The `qubit_order` argument is optional. When it is omitted, qubits are sorted ascending according to the ordering methods defined by their python class (for example `cirq.NamedQubit` sorts lexicographically by name).\n",
        "If there are multiple types of qubits in one circuit, the name of the type is used as a tie breaker.\n",
        "\n",
        "The simplest `qubit_order` value you can provide is a list of the qubits in the desired ordered. Any qubits from the circuit that are not in the list will be ordered using the  default `__str__` ordering, but come after qubits that are in the list. Be aware that all qubits in the list are included in the simulation, even if they are not operated on by the circuit.\n",
        "\n",
        "The mapping from the order of the qubits to the order of the  amplitudes in the wave function can be tricky to understand.  Basically, it is the same as the ordering used by `numpy.kron`.\n",
        "\n",
        "> If wave function is array \n",
        ">>(0.1, 0.2, 0.3, 0.4)\n",
        "\n",
        "> then this is \n",
        ">> 0.1|00⟩ + 0.2|01⟩ + 0.3|10⟩ + 0.4|11⟩ \n",
        "\n",
        ">in Dirac notation.  If the \n",
        ">> qubit order = [a, b]\n",
        "\n",
        ">then |00> means qubit a is in 0 and qubit b is in 0, |01> means \n",
        "> qubit a is 0 and qubit b is 1, etc.\n",
        "\n",
        "Another way to think about the qubit-to-amplitude ordering is as \"for loop ordering\":\n",
        "\n",
        "```\n",
        "for a in [0, 1]:\n",
        "    for b in [0, 1]:\n",
        "        print(a, b)\n",
        "```\n",
        "\n",
        "The first index (the outermost loop) is the slowest to vary."
      ]
    },
    {
      "cell_type": "markdown",
      "metadata": {
        "id": "YLpiz0aN1Jd6"
      },
      "source": [
        "### Repetitions\n",
        "\n",
        "The simulator `run` methods also take an option for repeating the circuit. If \n",
        "the measurements in the circuit are terminal, and all other operations are unitary, this simulator is optimized to not recompute the wavefunction before sampling from the circuit.  So for example this code doesn't recompute the wave function but knows to sample from the final measurements"
      ]
    },
    {
      "cell_type": "code",
      "metadata": {
        "id": "QxkmBlo21lrQ",
        "outputId": "b2f61670-0830-4eef-da91-939c7903341d",
        "colab": {
          "base_uri": "https://localhost:8080/",
          "height": 34
        }
      },
      "source": [
        "circuit = cirq.Circuit.from_ops(basic_circuit())\n",
        "result = simulator.run(circuit, repetitions=1000)\n",
        "print(result.histogram(key='a,b'))"
      ],
      "execution_count": null,
      "outputs": [
        {
          "output_type": "stream",
          "text": [
            "Counter({0: 258, 2: 253, 3: 251, 1: 238})\n"
          ],
          "name": "stdout"
        }
      ]
    },
    {
      "cell_type": "markdown",
      "metadata": {
        "id": "bD0zX0zP2HxQ"
      },
      "source": [
        "Here we have also demonstrated the use of the `histogram` method on the `result` which sums over all the different results for all of the different repetitions.\n",
        "\n",
        "The `histogram` method can also be given a `fold_func` argument, in order to group measurement results under some key before counting them up.\n",
        "For example, we can group by whether or not the two measurement results agreed:"
      ]
    },
    {
      "cell_type": "code",
      "metadata": {
        "id": "rPqVUsD9snYf",
        "outputId": "920bd408-ae61-4c51-ebca-13d8dc4305d3",
        "colab": {
          "base_uri": "https://localhost:8080/",
          "height": 34
        }
      },
      "source": [
        "print(result.histogram(key='a,b', fold_func=lambda e: 'agree' if e[0] == e[1] else 'disagree'))"
      ],
      "execution_count": null,
      "outputs": [
        {
          "output_type": "stream",
          "text": [
            "Counter({'agree': 509, 'disagree': 491})\n"
          ],
          "name": "stdout"
        }
      ]
    },
    {
      "cell_type": "code",
      "metadata": {
        "id": "zg2BZC0mKItE"
      },
      "source": [
        ""
      ],
      "execution_count": null,
      "outputs": []
    }
  ]
}